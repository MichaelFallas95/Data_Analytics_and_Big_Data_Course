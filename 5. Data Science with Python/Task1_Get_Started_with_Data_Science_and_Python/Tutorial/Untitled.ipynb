{
 "cells": [
  {
   "cell_type": "markdown",
   "metadata": {},
   "source": [
    "# Tutorial de Python\n",
    "\n",
    "## 1. Abriendo tu apetito\n",
    "\n",
    "Python es simple de usar, pero es un lenguaje de programación real, que ofrece mucha más estructura y soporte para programas grandes que los scripts de shell o los archivos por lotes pueden ofrecer. Por otro lado, Python también ofrece mucha más verificación de errores que C y, al ser un lenguaje de muy alto nivel, tiene incorporados tipos de datos de alto nivel, como arreglos flexibles y diccionarios. Debido a sus tipos de datos más generales, Python es aplicable a un dominio de problemas mucho más grande que Awk o incluso Perl, sin embargo, muchas cosas son al menos tan fáciles en Python como en esos idiomas.\n",
    "\n",
    "Python le permite dividir su programa en módulos que pueden reutilizarse en otros programas de Python. Viene con una gran colección de módulos estándar que puede usar como base de sus programas, o como ejemplos para comenzar a aprender a programar en Python. Algunos de estos módulos proporcionan elementos como E/S de archivos, llamadas al sistema, sockets e incluso interfaces para kits de herramientas de interfaz gráfica de usuario como Tk.\n",
    "\n",
    "Python es un lenguaje interpretado, que puede ahorrarle un tiempo considerable durante el desarrollo del programa porque no es necesario compilar ni vincular. El intérprete se puede usar de forma interactiva, lo que facilita experimentar con las características del lenguaje, escribir programas descartables o probar funciones durante el desarrollo de programas ascendentes. También es una práctica calculadora de escritorio.\n",
    "\n",
    "Python permite que los programas se escriban de forma compacta y legible. Los programas escritos en Python suelen ser mucho más cortos que los programas C, C ++ o Java equivalentes, por varias razones:\n",
    "    - los tipos de datos de alto nivel le permiten expresar operaciones complejas en una sola declaración;\n",
    "    - la agrupación de instrucciones se realiza mediante sangría en lugar de corchetes iniciales y finales;\n",
    "    - no son necesarias declaraciones de variables o argumentos.\n",
    "\n",
    "Python es extensible: si sabe programar en C, es fácil agregar una nueva función o módulo incorporado al intérprete, ya sea para realizar operaciones críticas a la máxima velocidad o para vincular los programas de Python a bibliotecas que solo pueden estar disponibles en forma binaria (como una biblioteca de gráficos específica del proveedor). Una vez que esté realmente enganchado, puede vincular el intérprete de Python a una aplicación escrita en C y usarlo como una extensión o lenguaje de comando para esa aplicación.\n",
    "\n",
    "En el próximo capítulo, se explican las mecánicas del uso del intérprete. Esta es información bastante mundana, pero esencial para probar los ejemplos que se muestran más adelante.\n",
    "\n",
    "El resto del tutorial presenta varias características del lenguaje y el sistema Python a través de ejemplos, comenzando con expresiones simples, declaraciones y tipos de datos, a través de funciones y módulos, y finalmente tocando conceptos avanzados como excepciones y clases definidas por el usuario.\n",
    "\n",
    "## 2. Usando Python como Intérprete\n",
    "\n",
    "### 2.1. Invocando el intérprete\n",
    "El intérprete de Python generalmente se instala como /usr/local/bin/python3.8 en aquellas máquinas donde está disponible; poner /usr/local/bin en la ruta de búsqueda del shell de Unix permite iniciarlo escribiendo el comando:\n",
    "\n",
    "python3.8\n",
    "\n",
    "Al escribir un carácter de fin de archivo (Control-D en Unix, Ctrl-Z en Windows) en el indicador principal, el intérprete sale con un estado de salida cero. Si eso no funciona, puede salir del intérprete escribiendo el siguiente comando: quit ().\n",
    "\n",
    "Una segunda forma de iniciar el intérprete es python -c command [arg] ..., que ejecuta la (s) instrucción (es) en el comando, de forma análoga a la opción -c del shell. Dado que las declaraciones de Python a menudo contienen espacios u otros caracteres que son especiales para el shell, generalmente se recomienda citar el comando en su totalidad con comillas simples.\n",
    "\n",
    "Algunos módulos de Python también son útiles como scripts. Estos pueden invocarse usando el módulo python -m [arg] ..., que ejecuta el archivo fuente del módulo como si hubiera deletreado su nombre completo en la línea de comando.\n",
    "\n",
    "Cuando se usa un archivo de secuencia de comandos, a veces es útil poder ejecutar la secuencia de comandos e ingresar al modo interactivo después. Esto se puede hacer pasando -i antes del script.\n",
    "\n",
    "Todas las opciones de línea de comando se describen en Línea de comando y entorno (https://docs.python.org/3/using/cmdline.html#using-on-general).\n",
    "\n"
   ]
  },
  {
   "cell_type": "code",
   "execution_count": null,
   "metadata": {},
   "outputs": [],
   "source": []
  }
 ],
 "metadata": {
  "kernelspec": {
   "display_name": "Python 3",
   "language": "python",
   "name": "python3"
  },
  "language_info": {
   "codemirror_mode": {
    "name": "ipython",
    "version": 3
   },
   "file_extension": ".py",
   "mimetype": "text/x-python",
   "name": "python",
   "nbconvert_exporter": "python",
   "pygments_lexer": "ipython3",
   "version": "3.7.4"
  }
 },
 "nbformat": 4,
 "nbformat_minor": 2
}
