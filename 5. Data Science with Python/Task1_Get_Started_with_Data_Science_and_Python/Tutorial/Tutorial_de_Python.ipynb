{
 "cells": [
  {
   "cell_type": "markdown",
   "metadata": {},
   "source": [
    "# Tutorial de Python\n",
    "\n",
    "## Introducción\n",
    "\n",
    "El siguiente tutorial fue tomado de \"The Python Tutorial\": https://docs.python.org/3/tutorial/index.html, como parte del Task 1: Get Started with Data Science and Python del módulo 5: Data Science with Python del curso Data Analytics & Big Data, en la Universidad Cenfotec.\n",
    "\n",
    "Alumno: Michael Fallas León.\n",
    "\n",
    "## 1. Abriendo tu apetito\n",
    "\n",
    "Python es simple de usar, pero es un lenguaje de programación real, que ofrece mucha más estructura y soporte para programas grandes que los scripts de shell o los archivos por lotes pueden ofrecer. Por otro lado, Python también ofrece mucha más verificación de errores que C y, al ser un lenguaje de muy alto nivel, tiene incorporados tipos de datos de alto nivel, como arreglos flexibles y diccionarios. Debido a sus tipos de datos más generales, Python es aplicable a un dominio de problemas mucho más grande que Awk o incluso Perl, sin embargo, muchas cosas son al menos tan fáciles en Python como en esos idiomas.\n",
    "\n",
    "Python le permite dividir su programa en módulos que pueden reutilizarse en otros programas de Python. Viene con una gran colección de módulos estándar que puede usar como base de sus programas, o como ejemplos para comenzar a aprender a programar en Python. Algunos de estos módulos proporcionan elementos como E/S de archivos, llamadas al sistema, sockets e incluso interfaces para kits de herramientas de interfaz gráfica de usuario como Tk.\n",
    "\n",
    "Python es un lenguaje interpretado, que puede ahorrarle un tiempo considerable durante el desarrollo del programa porque no es necesario compilar ni vincular. El intérprete se puede usar de forma interactiva, lo que facilita experimentar con las características del lenguaje, escribir programas descartables o probar funciones durante el desarrollo de programas ascendentes. También es una práctica calculadora de escritorio.\n",
    "\n",
    "Python permite que los programas se escriban de forma compacta y legible. Los programas escritos en Python suelen ser mucho más cortos que los programas C, C ++ o Java equivalentes, por varias razones:\n",
    "   - los tipos de datos de alto nivel le permiten expresar operaciones complejas en una sola declaración;\n",
    "   - la agrupación de instrucciones se realiza mediante sangría en lugar de corchetes iniciales y finales;\n",
    "   - no son necesarias declaraciones de variables o argumentos.\n",
    "\n",
    "Python es extensible: si sabe programar en C, es fácil agregar una nueva función o módulo incorporado al intérprete, ya sea para realizar operaciones críticas a la máxima velocidad o para vincular los programas de Python a bibliotecas que solo pueden estar disponibles en forma binaria (como una biblioteca de gráficos específica del proveedor). Una vez que esté realmente enganchado, puede vincular el intérprete de Python a una aplicación escrita en C y usarlo como una extensión o lenguaje de comando para esa aplicación.\n",
    "\n",
    "En el próximo capítulo, se explican las mecánicas del uso del intérprete. Esta es información bastante mundana, pero esencial para probar los ejemplos que se muestran más adelante.\n",
    "\n",
    "El resto del tutorial presenta varias características del lenguaje y el sistema Python a través de ejemplos, comenzando con expresiones simples, declaraciones y tipos de datos, a través de funciones y módulos, y finalmente tocando conceptos avanzados como excepciones y clases definidas por el usuario.\n",
    "\n",
    "## 2. Usando Python como Intérprete\n",
    "\n",
    "### 2.1. Invocando el intérprete\n",
    "\n",
    "El intérprete de Python generalmente se instala como /usr/local/bin/python3.8 en aquellas máquinas donde está disponible; poner /usr/local/bin en la ruta de búsqueda del shell de Unix permite iniciarlo escribiendo el comando:\n",
    "\n",
    "    python3.8\n",
    "\n",
    "Al escribir un carácter de fin de archivo (Control-D en Unix, Ctrl-Z en Windows) en el indicador principal, el intérprete sale con un estado de salida cero. Si eso no funciona, puede salir del intérprete escribiendo el siguiente comando: quit ().\n",
    "\n",
    "Una segunda forma de iniciar el intérprete es python -c command [arg] ..., que ejecuta la (s) instrucción (es) en el comando, de forma análoga a la opción -c del shell. Dado que las declaraciones de Python a menudo contienen espacios u otros caracteres que son especiales para el shell, generalmente se recomienda citar el comando en su totalidad con comillas simples.\n",
    "\n",
    "Algunos módulos de Python también son útiles como scripts. Estos pueden invocarse usando el módulo python -m [arg] ..., que ejecuta el archivo fuente del módulo como si hubiera deletreado su nombre completo en la línea de comando.\n",
    "\n",
    "Cuando se usa un archivo de secuencia de comandos, a veces es útil poder ejecutar la secuencia de comandos e ingresar al modo interactivo después. Esto se puede hacer pasando -i antes del script.\n",
    "\n",
    "Todas las opciones de línea de comando se describen en Línea de comando y entorno (https://docs.python.org/3/using/cmdline.html#using-on-general).\n",
    "\n",
    "#### 2.1.1. Paso de argumento\n",
    "Cuando el intérprete lo conoce, el nombre del script y los argumentos adicionales se convierten en una lista de cadenas y se asignan a la variable argv en el módulo sys. Puede acceder a esta lista ejecutando import sys. La longitud de la lista es al menos uno; cuando no se dan guiones ni argumentos, sys.argv [0] es una cadena vacía. Cuando el nombre del script se da como '-' (que significa entrada estándar), sys.argv [0] se establece en '-'. Cuando se usa el comando -c, sys.argv [0] se establece en '-c'. Cuando se utiliza el módulo -m, sys.argv [0] se establece con el nombre completo del módulo ubicado. El procesamiento de opciones del intérprete de Python no consume las opciones que se encuentran después del comando -c o el módulo -m, sino que se dejan en sys.argv para que las controle el comando o el módulo.\n",
    "\n",
    "#### 2.1.2. Modo interactivo\n",
    "Cuando los comandos se leen desde un tty, se dice que el intérprete está en modo interactivo. En este modo, solicita el siguiente comando con la solicitud principal, generalmente tres signos mayores que (>>>); para líneas de continuación, se solicita con la solicitud secundaria, por defecto tres puntos (...). El intérprete imprime un mensaje de bienvenida indicando su número de versión y un aviso de copyright antes de imprimir el primer mensaje.\n",
    "\n",
    "Para más información sobre el modo interactivo, vea Modo interactivo (https://docs.python.org/3/tutorial/appendix.html#tut-interac).\n",
    "\n",
    "### 2.2. El intérprete y su ambiente\n",
    "\n",
    "#### 2.2.1. Codificación de código fuente\n",
    "Por defecto, los archivos fuente de Python se tratan como codificados en UTF-8. En esa codificación, los caracteres de la mayoría de los idiomas del mundo pueden usarse simultáneamente en literales de cadena, identificadores y comentarios, aunque la biblioteca estándar solo usa caracteres ASCII para los identificadores, una convención que cualquier código portátil debe seguir. Para mostrar todos estos caracteres correctamente, su editor debe reconocer que el archivo es UTF-8 y debe usar una fuente que admita todos los caracteres del archivo.\n",
    "\n",
    "Para declarar una codificación distinta de la predeterminada, se debe agregar una línea de comentario especial como primera línea del archivo. La sintaxis es la siguiente:\n",
    "\n",
    "    # -*- coding: encoding -*-\n",
    "\n",
    "donde la codificación es uno de los códecs válidos admitidos por Python.\n",
    "\n",
    "Por ejemplo, para declarar que se va a utilizar la codificación Windows-1252, la primera línea de su archivo de código fuente debe ser:\n",
    "\n",
    "    # -*- coding: cp1252 -*-\n",
    "    \n",
    "Una excepción a la regla de la primera línea es cuando el código fuente comienza con una línea \"shebang\" de UNIX (https://docs.python.org/3/tutorial/appendix.html#tut-scripts). En este caso, la declaración de codificación debe agregarse como la segunda línea del archivo. Por ejemplo:\n",
    "\n",
    "    #!/usr/bin/env python3\n",
    "    # -*- coding: cp1252 -*-\n",
    "\n",
    "## 3. Una Introducción Informal a Python\n",
    "\n",
    "\n",
    "En los siguientes ejemplos, la entrada y la salida se distinguen por la presencia o ausencia de avisos (>>> y ...): para repetir el ejemplo, debe escribir todo después del aviso, cuando aparece el aviso; Las líneas que no comienzan con una solicitud se emiten desde el intérprete. Tenga en cuenta que una solicitud secundaria en una línea sola en un ejemplo significa que debe escribir una línea en blanco; Esto se utiliza para finalizar un comando de varias líneas.\n",
    "\n",
    "Muchos de los ejemplos en este manual, incluso los ingresados ​​en la solicitud interactiva, incluyen comentarios. Los comentarios en Python comienzan con el carácter hash, #, y se extienden hasta el final de la línea física. Puede aparecer un comentario al comienzo de una línea o después de un espacio en blanco o código, pero no dentro de un literal de cadena. Un carácter hash dentro de un literal de cadena es solo un carácter hash. Como los comentarios son para aclarar el código y Python no los interpreta, pueden omitirse al escribir ejemplos.\n",
    "\n",
    "Algunos ejemplos:"
   ]
  },
  {
   "cell_type": "code",
   "execution_count": 2,
   "metadata": {},
   "outputs": [],
   "source": [
    "# this is the first comment\n",
    "spam = 1  # and this is the second comment\n",
    "          # ... and now a third!\n",
    "text = \"# This is not a comment because it's inside quotes.\""
   ]
  },
  {
   "cell_type": "markdown",
   "metadata": {},
   "source": [
    "### 3.1. Usando Python como calculador\n",
    "\n",
    "Probemos algunos comandos simples de Python. Inicie el intérprete y espere la solicitud principal, >>>.\n",
    "\n",
    "#### 3.1.1. Números\n",
    "El intérprete actúa como una simple calculadora: puede escribirle una expresión y escribirá el valor. La sintaxis de expresión es sencilla: los operadores +, -, * y / funcionan igual que en la mayoría de los otros lenguajes (por ejemplo, Pascal o C); los paréntesis (()) se pueden usar para agrupar. Por ejemplo:"
   ]
  },
  {
   "cell_type": "code",
   "execution_count": 4,
   "metadata": {},
   "outputs": [
    {
     "data": {
      "text/plain": [
       "1.6"
      ]
     },
     "execution_count": 4,
     "metadata": {},
     "output_type": "execute_result"
    }
   ],
   "source": [
    "2 + 2"
   ]
  },
  {
   "cell_type": "code",
   "execution_count": 6,
   "metadata": {},
   "outputs": [
    {
     "data": {
      "text/plain": [
       "20"
      ]
     },
     "execution_count": 6,
     "metadata": {},
     "output_type": "execute_result"
    }
   ],
   "source": [
    "50 - 5*6"
   ]
  },
  {
   "cell_type": "code",
   "execution_count": 5,
   "metadata": {},
   "outputs": [
    {
     "data": {
      "text/plain": [
       "5.0"
      ]
     },
     "execution_count": 5,
     "metadata": {},
     "output_type": "execute_result"
    }
   ],
   "source": [
    "(50 - 5*6) / 4"
   ]
  },
  {
   "cell_type": "code",
   "execution_count": 7,
   "metadata": {},
   "outputs": [
    {
     "data": {
      "text/plain": [
       "1.6"
      ]
     },
     "execution_count": 7,
     "metadata": {},
     "output_type": "execute_result"
    }
   ],
   "source": [
    "8 / 5  # division always returns a floating point number"
   ]
  },
  {
   "cell_type": "markdown",
   "metadata": {},
   "source": [
    "Los números enteros (por ejemplo, 2, 4, 20) tienen tipo int, los que tienen una parte fraccional (por ejemplo, 5.0, 1.6) tienen tipo flotante. Veremos más sobre los tipos numéricos más adelante en el tutorial.\n",
    "\n",
    "La división (/) siempre devuelve un flotador. Para hacer la división y obtener un resultado entero (descartando cualquier resultado fraccionario) puede usar el operador //; para calcular el resto puedes usar%:"
   ]
  },
  {
   "cell_type": "code",
   "execution_count": 8,
   "metadata": {},
   "outputs": [
    {
     "data": {
      "text/plain": [
       "5.666666666666667"
      ]
     },
     "execution_count": 8,
     "metadata": {},
     "output_type": "execute_result"
    }
   ],
   "source": [
    "17 / 3  # classic division returns a float"
   ]
  },
  {
   "cell_type": "code",
   "execution_count": 9,
   "metadata": {},
   "outputs": [
    {
     "data": {
      "text/plain": [
       "5"
      ]
     },
     "execution_count": 9,
     "metadata": {},
     "output_type": "execute_result"
    }
   ],
   "source": [
    "17 // 3  # floor division discards the fractional part"
   ]
  },
  {
   "cell_type": "code",
   "execution_count": 12,
   "metadata": {},
   "outputs": [
    {
     "data": {
      "text/plain": [
       "2"
      ]
     },
     "execution_count": 12,
     "metadata": {},
     "output_type": "execute_result"
    }
   ],
   "source": [
    "17 % 3  # the % operator returns the remainder of the division"
   ]
  },
  {
   "cell_type": "code",
   "execution_count": 13,
   "metadata": {},
   "outputs": [
    {
     "data": {
      "text/plain": [
       "17"
      ]
     },
     "execution_count": 13,
     "metadata": {},
     "output_type": "execute_result"
    }
   ],
   "source": [
    "5 * 3 + 2  # result * divisor + remainder"
   ]
  },
  {
   "cell_type": "markdown",
   "metadata": {},
   "source": [
    "Con Python, es posible usar el operador ** para calcular potencias:"
   ]
  },
  {
   "cell_type": "code",
   "execution_count": 14,
   "metadata": {},
   "outputs": [
    {
     "data": {
      "text/plain": [
       "25"
      ]
     },
     "execution_count": 14,
     "metadata": {},
     "output_type": "execute_result"
    }
   ],
   "source": [
    "5 ** 2  # 5 squared"
   ]
  },
  {
   "cell_type": "code",
   "execution_count": 15,
   "metadata": {},
   "outputs": [
    {
     "data": {
      "text/plain": [
       "128"
      ]
     },
     "execution_count": 15,
     "metadata": {},
     "output_type": "execute_result"
    }
   ],
   "source": [
    "2 ** 7  # 2 to the power of 7"
   ]
  },
  {
   "cell_type": "markdown",
   "metadata": {},
   "source": [
    "El signo igual (=) se usa para asignar un valor a una variable. Posteriormente, no se muestra ningún resultado antes del siguiente mensaje interactivo:"
   ]
  },
  {
   "cell_type": "code",
   "execution_count": 16,
   "metadata": {},
   "outputs": [],
   "source": [
    "width = 20"
   ]
  },
  {
   "cell_type": "code",
   "execution_count": 17,
   "metadata": {},
   "outputs": [],
   "source": [
    "height = 5 * 9"
   ]
  },
  {
   "cell_type": "code",
   "execution_count": 18,
   "metadata": {},
   "outputs": [
    {
     "data": {
      "text/plain": [
       "900"
      ]
     },
     "execution_count": 18,
     "metadata": {},
     "output_type": "execute_result"
    }
   ],
   "source": [
    "width * height"
   ]
  },
  {
   "cell_type": "markdown",
   "metadata": {},
   "source": [
    "Si una variable no está \"definida\" (se le asigna un valor), intentar usarla le dará un error:"
   ]
  },
  {
   "cell_type": "code",
   "execution_count": 19,
   "metadata": {},
   "outputs": [
    {
     "ename": "NameError",
     "evalue": "name 'n' is not defined",
     "output_type": "error",
     "traceback": [
      "\u001b[1;31m---------------------------------------------------------------------------\u001b[0m",
      "\u001b[1;31mNameError\u001b[0m                                 Traceback (most recent call last)",
      "\u001b[1;32m<ipython-input-19-6268bfea6a2c>\u001b[0m in \u001b[0;36m<module>\u001b[1;34m\u001b[0m\n\u001b[1;32m----> 1\u001b[1;33m \u001b[0mn\u001b[0m  \u001b[1;31m# try to access an undefined variable\u001b[0m\u001b[1;33m\u001b[0m\u001b[1;33m\u001b[0m\u001b[0m\n\u001b[0m",
      "\u001b[1;31mNameError\u001b[0m: name 'n' is not defined"
     ]
    }
   ],
   "source": [
    "n  # try to access an undefined variable"
   ]
  },
  {
   "cell_type": "markdown",
   "metadata": {},
   "source": [
    "Hay soporte completo para coma flotante; Los operadores con operandos de tipo mixto convierten el operando entero en coma flotante:"
   ]
  },
  {
   "cell_type": "code",
   "execution_count": 20,
   "metadata": {},
   "outputs": [
    {
     "data": {
      "text/plain": [
       "14.0"
      ]
     },
     "execution_count": 20,
     "metadata": {},
     "output_type": "execute_result"
    }
   ],
   "source": [
    "4 * 3.75 - 1"
   ]
  },
  {
   "cell_type": "markdown",
   "metadata": {},
   "source": [
    "En modo interactivo, la última expresión impresa se asigna a la variable _. Esto significa que cuando usa Python como una calculadora de escritorio, es algo más fácil continuar con los cálculos, por ejemplo:"
   ]
  },
  {
   "cell_type": "code",
   "execution_count": 21,
   "metadata": {},
   "outputs": [],
   "source": [
    "tax = 12.5 / 100"
   ]
  },
  {
   "cell_type": "code",
   "execution_count": 22,
   "metadata": {},
   "outputs": [],
   "source": [
    "price = 100.50"
   ]
  },
  {
   "cell_type": "code",
   "execution_count": 23,
   "metadata": {},
   "outputs": [
    {
     "data": {
      "text/plain": [
       "12.5625"
      ]
     },
     "execution_count": 23,
     "metadata": {},
     "output_type": "execute_result"
    }
   ],
   "source": [
    "price * tax"
   ]
  },
  {
   "cell_type": "code",
   "execution_count": 24,
   "metadata": {},
   "outputs": [
    {
     "data": {
      "text/plain": [
       "113.0625"
      ]
     },
     "execution_count": 24,
     "metadata": {},
     "output_type": "execute_result"
    }
   ],
   "source": [
    "price + _"
   ]
  },
  {
   "cell_type": "code",
   "execution_count": 25,
   "metadata": {},
   "outputs": [
    {
     "data": {
      "text/plain": [
       "113.06"
      ]
     },
     "execution_count": 25,
     "metadata": {},
     "output_type": "execute_result"
    }
   ],
   "source": [
    "round(_, 2)"
   ]
  },
  {
   "cell_type": "markdown",
   "metadata": {},
   "source": [
    "Esta variable debe ser tratada como de solo lectura por el usuario. No le asigne un valor explícitamente: crearía una variable local independiente con el mismo nombre enmascarando la variable incorporada con su comportamiento mágico.\n",
    "\n",
    "Además de int y float, Python admite otros tipos de números, como Decimal y Fraction. Python también tiene soporte incorporado para números complejos, y usa el sufijo j o J para indicar la parte imaginaria (por ejemplo, 3 + 5j).\n",
    "\n",
    "#### 3.1.2. Strings\n",
    "Además de los números, Python también puede manipular strings, que se pueden expresar de varias maneras. Se pueden incluir entre comillas simples ('...') o comillas dobles (\"...\") con el mismo resultado. \\ se puede usar para escapar de las comillas:"
   ]
  },
  {
   "cell_type": "code",
   "execution_count": 26,
   "metadata": {},
   "outputs": [
    {
     "data": {
      "text/plain": [
       "'spam eggs'"
      ]
     },
     "execution_count": 26,
     "metadata": {},
     "output_type": "execute_result"
    }
   ],
   "source": [
    "'spam eggs'  # single quotes"
   ]
  },
  {
   "cell_type": "code",
   "execution_count": 27,
   "metadata": {},
   "outputs": [
    {
     "data": {
      "text/plain": [
       "\"doesn't\""
      ]
     },
     "execution_count": 27,
     "metadata": {},
     "output_type": "execute_result"
    }
   ],
   "source": [
    "'doesn\\'t'  # use \\' to escape the single quote..."
   ]
  },
  {
   "cell_type": "code",
   "execution_count": 28,
   "metadata": {},
   "outputs": [
    {
     "data": {
      "text/plain": [
       "\"doesn't\""
      ]
     },
     "execution_count": 28,
     "metadata": {},
     "output_type": "execute_result"
    }
   ],
   "source": [
    "\"doesn't\"  # ...or use double quotes instead"
   ]
  },
  {
   "cell_type": "code",
   "execution_count": 29,
   "metadata": {},
   "outputs": [
    {
     "data": {
      "text/plain": [
       "'\"Yes,\" they said.'"
      ]
     },
     "execution_count": 29,
     "metadata": {},
     "output_type": "execute_result"
    }
   ],
   "source": [
    "'\"Yes,\" they said.'"
   ]
  },
  {
   "cell_type": "code",
   "execution_count": 30,
   "metadata": {},
   "outputs": [
    {
     "data": {
      "text/plain": [
       "'\"Yes,\" they said.'"
      ]
     },
     "execution_count": 30,
     "metadata": {},
     "output_type": "execute_result"
    }
   ],
   "source": [
    "\"\\\"Yes,\\\" they said.\""
   ]
  },
  {
   "cell_type": "code",
   "execution_count": 31,
   "metadata": {},
   "outputs": [
    {
     "data": {
      "text/plain": [
       "'\"Isn\\'t,\" they said.'"
      ]
     },
     "execution_count": 31,
     "metadata": {},
     "output_type": "execute_result"
    }
   ],
   "source": [
    "'\"Isn\\'t,\" they said.'"
   ]
  },
  {
   "cell_type": "markdown",
   "metadata": {},
   "source": [
    "En el intérprete interactivo, el string de salida se incluye entre comillas y los caracteres especiales se escapan con barras invertidas. Si bien esto a veces puede verse diferente de la entrada (las comillas que encierran podrían cambiar), ambos strings son equivalentes. El string se encierra entre comillas dobles si el string contiene una comilla simple y no comillas dobles, de lo contrario se encierra entre comillas simples. La función print () produce una salida más legible, omitiendo las comillas adjuntas e imprimiendo caracteres escapados y especiales:"
   ]
  },
  {
   "cell_type": "code",
   "execution_count": 32,
   "metadata": {},
   "outputs": [
    {
     "data": {
      "text/plain": [
       "'\"Isn\\'t,\" they said.'"
      ]
     },
     "execution_count": 32,
     "metadata": {},
     "output_type": "execute_result"
    }
   ],
   "source": [
    "'\"Isn\\'t,\" they said.'"
   ]
  },
  {
   "cell_type": "code",
   "execution_count": 33,
   "metadata": {},
   "outputs": [
    {
     "name": "stdout",
     "output_type": "stream",
     "text": [
      "\"Isn't,\" they said.\n"
     ]
    }
   ],
   "source": [
    "print('\"Isn\\'t,\" they said.')"
   ]
  },
  {
   "cell_type": "code",
   "execution_count": 34,
   "metadata": {},
   "outputs": [],
   "source": [
    "s = 'First line.\\nSecond line.'  # \\n means newline"
   ]
  },
  {
   "cell_type": "code",
   "execution_count": 35,
   "metadata": {},
   "outputs": [
    {
     "data": {
      "text/plain": [
       "'First line.\\nSecond line.'"
      ]
     },
     "execution_count": 35,
     "metadata": {},
     "output_type": "execute_result"
    }
   ],
   "source": [
    "s  # without print(), \\n is included in the output"
   ]
  },
  {
   "cell_type": "code",
   "execution_count": 36,
   "metadata": {},
   "outputs": [
    {
     "name": "stdout",
     "output_type": "stream",
     "text": [
      "First line.\n",
      "Second line.\n"
     ]
    }
   ],
   "source": [
    "print(s)  # with print(), \\n produces a new line"
   ]
  },
  {
   "cell_type": "markdown",
   "metadata": {},
   "source": [
    "Si no desea que los caracteres precedidos por \\ se interpreten como caracteres especiales, puede usar strings sin procesar agregando una r antes de la primera cita:"
   ]
  },
  {
   "cell_type": "code",
   "execution_count": 37,
   "metadata": {},
   "outputs": [
    {
     "name": "stdout",
     "output_type": "stream",
     "text": [
      "C:\\some\n",
      "ame\n"
     ]
    }
   ],
   "source": [
    "print('C:\\some\\name')  # here \\n means newline!"
   ]
  },
  {
   "cell_type": "code",
   "execution_count": 38,
   "metadata": {},
   "outputs": [
    {
     "name": "stdout",
     "output_type": "stream",
     "text": [
      "C:\\some\\name\n"
     ]
    }
   ],
   "source": [
    "print(r'C:\\some\\name')  # note the r before the quote"
   ]
  },
  {
   "cell_type": "markdown",
   "metadata": {},
   "source": [
    "Los strings literales pueden abarcar varias líneas. Una forma es usar comillas triples: \"\" \"...\" \"\" o '' '...' ''. El final de las líneas se incluye automáticamente en el string, pero es posible evitarlo agregando un \\ al final de la línea. El siguiente ejemplo se \n",
    "produce el siguiente resultado (tenga en cuenta que la nueva línea inicial no está incluida):"
   ]
  },
  {
   "cell_type": "code",
   "execution_count": 39,
   "metadata": {},
   "outputs": [
    {
     "name": "stdout",
     "output_type": "stream",
     "text": [
      "Usage: thingy [OPTIONS]\n",
      "     -h                        Display this usage message\n",
      "     -H hostname               Hostname to connect to\n",
      "\n"
     ]
    }
   ],
   "source": [
    "print(\"\"\"\\\n",
    "Usage: thingy [OPTIONS]\n",
    "     -h                        Display this usage message\n",
    "     -H hostname               Hostname to connect to\n",
    "\"\"\")"
   ]
  },
  {
   "cell_type": "markdown",
   "metadata": {},
   "source": [
    "Los strings se pueden concatenar (pegar) con el operador + y repetir con *:"
   ]
  },
  {
   "cell_type": "code",
   "execution_count": 40,
   "metadata": {},
   "outputs": [
    {
     "data": {
      "text/plain": [
       "'unununium'"
      ]
     },
     "execution_count": 40,
     "metadata": {},
     "output_type": "execute_result"
    }
   ],
   "source": [
    "# 3 times 'un', followed by 'ium'\n",
    "3 * 'un' + 'ium'"
   ]
  },
  {
   "cell_type": "markdown",
   "metadata": {},
   "source": [
    "Dos o más strings literales (es decir, los encerrados entre comillas) uno al lado del otro se concatenan automáticamente."
   ]
  },
  {
   "cell_type": "code",
   "execution_count": 41,
   "metadata": {},
   "outputs": [
    {
     "data": {
      "text/plain": [
       "'Python'"
      ]
     },
     "execution_count": 41,
     "metadata": {},
     "output_type": "execute_result"
    }
   ],
   "source": [
    "'Py' 'thon'"
   ]
  },
  {
   "cell_type": "markdown",
   "metadata": {},
   "source": [
    "Esta característica es particularmente útil cuando desea romper strings largos:"
   ]
  },
  {
   "cell_type": "code",
   "execution_count": 42,
   "metadata": {},
   "outputs": [
    {
     "data": {
      "text/plain": [
       "'Put several strings within parentheses to have them joined together.'"
      ]
     },
     "execution_count": 42,
     "metadata": {},
     "output_type": "execute_result"
    }
   ],
   "source": [
    "text = ('Put several strings within parentheses '\n",
    "        'to have them joined together.')\n",
    "text"
   ]
  },
  {
   "cell_type": "markdown",
   "metadata": {},
   "source": [
    "Sin embargo, esto solo funciona con dos literales, no con variables o expresiones:"
   ]
  },
  {
   "cell_type": "code",
   "execution_count": 43,
   "metadata": {},
   "outputs": [],
   "source": [
    "prefix = 'Py'"
   ]
  },
  {
   "cell_type": "code",
   "execution_count": 44,
   "metadata": {},
   "outputs": [
    {
     "ename": "SyntaxError",
     "evalue": "invalid syntax (<ipython-input-44-c5901e312aa3>, line 1)",
     "output_type": "error",
     "traceback": [
      "\u001b[1;36m  File \u001b[1;32m\"<ipython-input-44-c5901e312aa3>\"\u001b[1;36m, line \u001b[1;32m1\u001b[0m\n\u001b[1;33m    prefix 'thon'  # can't concatenate a variable and a string literal\u001b[0m\n\u001b[1;37m                ^\u001b[0m\n\u001b[1;31mSyntaxError\u001b[0m\u001b[1;31m:\u001b[0m invalid syntax\n"
     ]
    }
   ],
   "source": [
    "prefix 'thon'  # can't concatenate a variable and a string literal"
   ]
  },
  {
   "cell_type": "code",
   "execution_count": 45,
   "metadata": {},
   "outputs": [
    {
     "ename": "SyntaxError",
     "evalue": "invalid syntax (<ipython-input-45-f4764cbe42a8>, line 1)",
     "output_type": "error",
     "traceback": [
      "\u001b[1;36m  File \u001b[1;32m\"<ipython-input-45-f4764cbe42a8>\"\u001b[1;36m, line \u001b[1;32m1\u001b[0m\n\u001b[1;33m    ('un' * 3) 'ium'\u001b[0m\n\u001b[1;37m                   ^\u001b[0m\n\u001b[1;31mSyntaxError\u001b[0m\u001b[1;31m:\u001b[0m invalid syntax\n"
     ]
    }
   ],
   "source": [
    "('un' * 3) 'ium'"
   ]
  },
  {
   "cell_type": "markdown",
   "metadata": {},
   "source": [
    "Si desea concatenar variables o una variable y un literal, use +:"
   ]
  },
  {
   "cell_type": "code",
   "execution_count": 46,
   "metadata": {},
   "outputs": [
    {
     "data": {
      "text/plain": [
       "'Python'"
      ]
     },
     "execution_count": 46,
     "metadata": {},
     "output_type": "execute_result"
    }
   ],
   "source": [
    "prefix + 'thon'"
   ]
  },
  {
   "cell_type": "markdown",
   "metadata": {},
   "source": [
    "Los scrings pueden indexarse (subscripted), con el primer carácter con índice 0. No hay ningún tipo de carácter separado; un personaje es simplemente una cadena de tamaño uno:"
   ]
  },
  {
   "cell_type": "code",
   "execution_count": 47,
   "metadata": {},
   "outputs": [],
   "source": [
    "word = 'Python'"
   ]
  },
  {
   "cell_type": "code",
   "execution_count": 48,
   "metadata": {},
   "outputs": [
    {
     "data": {
      "text/plain": [
       "'P'"
      ]
     },
     "execution_count": 48,
     "metadata": {},
     "output_type": "execute_result"
    }
   ],
   "source": [
    "word[0]  # character in position 0"
   ]
  },
  {
   "cell_type": "code",
   "execution_count": 49,
   "metadata": {},
   "outputs": [
    {
     "data": {
      "text/plain": [
       "'n'"
      ]
     },
     "execution_count": 49,
     "metadata": {},
     "output_type": "execute_result"
    }
   ],
   "source": [
    "word[5]  # character in position 5"
   ]
  },
  {
   "cell_type": "markdown",
   "metadata": {},
   "source": [
    "Los índices también pueden ser números negativos, para comenzar a contar desde la derecha:"
   ]
  },
  {
   "cell_type": "code",
   "execution_count": 50,
   "metadata": {},
   "outputs": [
    {
     "data": {
      "text/plain": [
       "'n'"
      ]
     },
     "execution_count": 50,
     "metadata": {},
     "output_type": "execute_result"
    }
   ],
   "source": [
    "word[-1]  # last character"
   ]
  },
  {
   "cell_type": "code",
   "execution_count": 51,
   "metadata": {},
   "outputs": [
    {
     "data": {
      "text/plain": [
       "'o'"
      ]
     },
     "execution_count": 51,
     "metadata": {},
     "output_type": "execute_result"
    }
   ],
   "source": [
    "word[-2]  # second-last character"
   ]
  },
  {
   "cell_type": "code",
   "execution_count": 52,
   "metadata": {},
   "outputs": [
    {
     "data": {
      "text/plain": [
       "'P'"
      ]
     },
     "execution_count": 52,
     "metadata": {},
     "output_type": "execute_result"
    }
   ],
   "source": [
    "word[-6]"
   ]
  },
  {
   "cell_type": "markdown",
   "metadata": {},
   "source": [
    "Tenga en cuenta que dado que -0 es igual a 0, los índices negativos comienzan desde -1.\n",
    "\n",
    "Además de la indexación, también se admite la división. Si bien la indexación se usa para obtener caracteres individuales, la división le permite obtener un substring:"
   ]
  },
  {
   "cell_type": "code",
   "execution_count": 53,
   "metadata": {},
   "outputs": [
    {
     "data": {
      "text/plain": [
       "'Py'"
      ]
     },
     "execution_count": 53,
     "metadata": {},
     "output_type": "execute_result"
    }
   ],
   "source": [
    "word[0:2]  # characters from position 0 (included) to 2 (excluded)"
   ]
  },
  {
   "cell_type": "code",
   "execution_count": 54,
   "metadata": {},
   "outputs": [
    {
     "data": {
      "text/plain": [
       "'tho'"
      ]
     },
     "execution_count": 54,
     "metadata": {},
     "output_type": "execute_result"
    }
   ],
   "source": [
    "word[2:5]  # characters from position 2 (included) to 5 (excluded)"
   ]
  },
  {
   "cell_type": "markdown",
   "metadata": {},
   "source": [
    "Observe cómo siempre se incluye el inicio y siempre se excluye el final. Esto asegura que s [: i] + s [i:] sea siempre igual a s:"
   ]
  },
  {
   "cell_type": "code",
   "execution_count": 55,
   "metadata": {},
   "outputs": [
    {
     "data": {
      "text/plain": [
       "'Python'"
      ]
     },
     "execution_count": 55,
     "metadata": {},
     "output_type": "execute_result"
    }
   ],
   "source": [
    "word[:2] + word[2:]"
   ]
  },
  {
   "cell_type": "code",
   "execution_count": 56,
   "metadata": {},
   "outputs": [
    {
     "data": {
      "text/plain": [
       "'Python'"
      ]
     },
     "execution_count": 56,
     "metadata": {},
     "output_type": "execute_result"
    }
   ],
   "source": [
    "word[:4] + word[4:]"
   ]
  },
  {
   "cell_type": "markdown",
   "metadata": {},
   "source": [
    "Los índices de corte tienen valores predeterminados útiles; un primer índice omitido por defecto es cero, un segundo índice omitido por defecto al tamaño de la cadena que se corta."
   ]
  },
  {
   "cell_type": "code",
   "execution_count": 57,
   "metadata": {},
   "outputs": [
    {
     "data": {
      "text/plain": [
       "'Py'"
      ]
     },
     "execution_count": 57,
     "metadata": {},
     "output_type": "execute_result"
    }
   ],
   "source": [
    "word[:2]   # character from the beginning to position 2 (excluded)"
   ]
  },
  {
   "cell_type": "code",
   "execution_count": 58,
   "metadata": {},
   "outputs": [
    {
     "data": {
      "text/plain": [
       "'on'"
      ]
     },
     "execution_count": 58,
     "metadata": {},
     "output_type": "execute_result"
    }
   ],
   "source": [
    "word[4:]   # characters from position 4 (included) to the end"
   ]
  },
  {
   "cell_type": "code",
   "execution_count": 59,
   "metadata": {},
   "outputs": [
    {
     "data": {
      "text/plain": [
       "'on'"
      ]
     },
     "execution_count": 59,
     "metadata": {},
     "output_type": "execute_result"
    }
   ],
   "source": [
    "word[-2:]  # characters from the second-last (included) to the end"
   ]
  },
  {
   "cell_type": "markdown",
   "metadata": {},
   "source": [
    "Una forma de recordar cómo funcionan los cortes es pensar en los índices como apuntando entre caracteres, con el borde izquierdo del primer carácter numerado 0. Luego, el borde derecho del último carácter de una cadena de n caracteres tiene un índice n, por ejemplo:\n",
    "\n",
    "     +---+---+---+---+---+---+\n",
    "     | P | y | t | h | o | n |\n",
    "     +---+---+---+---+---+---+\n",
    "     0   1   2   3   4   5   6\n",
    "    -6  -5  -4  -3  -2  -1\n",
    "\n",
    "La primera fila de números da la posición de los índices 0 ... 6 en la cadena; la segunda fila da los índices negativos correspondientes. El corte de i a j consta de todos los caracteres entre los bordes etiquetados como i y j, respectivamente.\n",
    "\n",
    "Para índices no negativos, la longitud de un segmento es la diferencia de los índices, si ambos están dentro de los límites. Por ejemplo, la longitud de la palabra [1:3] es 2.\n",
    "\n",
    "Intentar usar un índice que sea demasiado grande dará como resultado un error:"
   ]
  },
  {
   "cell_type": "code",
   "execution_count": 60,
   "metadata": {},
   "outputs": [
    {
     "ename": "IndexError",
     "evalue": "string index out of range",
     "output_type": "error",
     "traceback": [
      "\u001b[1;31m---------------------------------------------------------------------------\u001b[0m",
      "\u001b[1;31mIndexError\u001b[0m                                Traceback (most recent call last)",
      "\u001b[1;32m<ipython-input-60-469c6d99b5b2>\u001b[0m in \u001b[0;36m<module>\u001b[1;34m\u001b[0m\n\u001b[1;32m----> 1\u001b[1;33m \u001b[0mword\u001b[0m\u001b[1;33m[\u001b[0m\u001b[1;36m42\u001b[0m\u001b[1;33m]\u001b[0m  \u001b[1;31m# the word only has 6 characters\u001b[0m\u001b[1;33m\u001b[0m\u001b[1;33m\u001b[0m\u001b[0m\n\u001b[0m",
      "\u001b[1;31mIndexError\u001b[0m: string index out of range"
     ]
    }
   ],
   "source": [
    "word[42]  # the word only has 6 characters"
   ]
  },
  {
   "cell_type": "markdown",
   "metadata": {},
   "source": [
    "Sin embargo, los índices de corte fuera de rango se manejan con gracia cuando se usan para cortar:"
   ]
  },
  {
   "cell_type": "code",
   "execution_count": 61,
   "metadata": {},
   "outputs": [
    {
     "data": {
      "text/plain": [
       "'on'"
      ]
     },
     "execution_count": 61,
     "metadata": {},
     "output_type": "execute_result"
    }
   ],
   "source": [
    "word[4:42]"
   ]
  },
  {
   "cell_type": "code",
   "execution_count": 62,
   "metadata": {},
   "outputs": [
    {
     "data": {
      "text/plain": [
       "''"
      ]
     },
     "execution_count": 62,
     "metadata": {},
     "output_type": "execute_result"
    }
   ],
   "source": [
    "word[42:]"
   ]
  },
  {
   "cell_type": "markdown",
   "metadata": {},
   "source": [
    "Los strings de Python no se pueden cambiar, son inmutables. Por lo tanto, la asignación a una posición indexada en la cadena da como resultado un error:"
   ]
  },
  {
   "cell_type": "code",
   "execution_count": 63,
   "metadata": {},
   "outputs": [
    {
     "ename": "TypeError",
     "evalue": "'str' object does not support item assignment",
     "output_type": "error",
     "traceback": [
      "\u001b[1;31m---------------------------------------------------------------------------\u001b[0m",
      "\u001b[1;31mTypeError\u001b[0m                                 Traceback (most recent call last)",
      "\u001b[1;32m<ipython-input-63-91a956888ca7>\u001b[0m in \u001b[0;36m<module>\u001b[1;34m\u001b[0m\n\u001b[1;32m----> 1\u001b[1;33m \u001b[0mword\u001b[0m\u001b[1;33m[\u001b[0m\u001b[1;36m0\u001b[0m\u001b[1;33m]\u001b[0m \u001b[1;33m=\u001b[0m \u001b[1;34m'J'\u001b[0m\u001b[1;33m\u001b[0m\u001b[1;33m\u001b[0m\u001b[0m\n\u001b[0m",
      "\u001b[1;31mTypeError\u001b[0m: 'str' object does not support item assignment"
     ]
    }
   ],
   "source": [
    "word[0] = 'J'"
   ]
  },
  {
   "cell_type": "code",
   "execution_count": 64,
   "metadata": {},
   "outputs": [
    {
     "ename": "TypeError",
     "evalue": "'str' object does not support item assignment",
     "output_type": "error",
     "traceback": [
      "\u001b[1;31m---------------------------------------------------------------------------\u001b[0m",
      "\u001b[1;31mTypeError\u001b[0m                                 Traceback (most recent call last)",
      "\u001b[1;32m<ipython-input-64-6488bbf78f5a>\u001b[0m in \u001b[0;36m<module>\u001b[1;34m\u001b[0m\n\u001b[1;32m----> 1\u001b[1;33m \u001b[0mword\u001b[0m\u001b[1;33m[\u001b[0m\u001b[1;36m2\u001b[0m\u001b[1;33m:\u001b[0m\u001b[1;33m]\u001b[0m \u001b[1;33m=\u001b[0m \u001b[1;34m'py'\u001b[0m\u001b[1;33m\u001b[0m\u001b[1;33m\u001b[0m\u001b[0m\n\u001b[0m",
      "\u001b[1;31mTypeError\u001b[0m: 'str' object does not support item assignment"
     ]
    }
   ],
   "source": [
    "word[2:] = 'py'"
   ]
  },
  {
   "cell_type": "markdown",
   "metadata": {},
   "source": [
    "Si necesita una cadena diferente, debe crear una nueva:"
   ]
  },
  {
   "cell_type": "code",
   "execution_count": 65,
   "metadata": {},
   "outputs": [
    {
     "data": {
      "text/plain": [
       "'Jython'"
      ]
     },
     "execution_count": 65,
     "metadata": {},
     "output_type": "execute_result"
    }
   ],
   "source": [
    "'J' + word[1:]"
   ]
  },
  {
   "cell_type": "code",
   "execution_count": 66,
   "metadata": {},
   "outputs": [
    {
     "data": {
      "text/plain": [
       "'Pypy'"
      ]
     },
     "execution_count": 66,
     "metadata": {},
     "output_type": "execute_result"
    }
   ],
   "source": [
    "word[:2] + 'py'"
   ]
  },
  {
   "cell_type": "markdown",
   "metadata": {},
   "source": [
    "La función incorporada len () devuelve la longitud de una cadena:"
   ]
  },
  {
   "cell_type": "code",
   "execution_count": 67,
   "metadata": {},
   "outputs": [],
   "source": [
    "s = 'supercalifragilisticexpialidocious'"
   ]
  },
  {
   "cell_type": "code",
   "execution_count": 68,
   "metadata": {},
   "outputs": [
    {
     "data": {
      "text/plain": [
       "34"
      ]
     },
     "execution_count": 68,
     "metadata": {},
     "output_type": "execute_result"
    }
   ],
   "source": [
    "len(s)"
   ]
  },
  {
   "cell_type": "markdown",
   "metadata": {},
   "source": [
    "#### 3.1.3. Listas\n",
    "Python conoce varios tipos de datos compuestos, utilizados para agrupar otros valores. La más versátil es la lista, que se puede escribir como una lista de valores (elementos) separados por comas entre corchetes. Las listas pueden contener elementos de diferentes tipos, pero generalmente todos los elementos tienen el mismo tipo."
   ]
  },
  {
   "cell_type": "code",
   "execution_count": 69,
   "metadata": {},
   "outputs": [],
   "source": [
    "squares = [1, 4, 9, 16, 25]"
   ]
  },
  {
   "cell_type": "code",
   "execution_count": 70,
   "metadata": {},
   "outputs": [
    {
     "data": {
      "text/plain": [
       "[1, 4, 9, 16, 25]"
      ]
     },
     "execution_count": 70,
     "metadata": {},
     "output_type": "execute_result"
    }
   ],
   "source": [
    "squares"
   ]
  },
  {
   "cell_type": "markdown",
   "metadata": {},
   "source": [
    "Al igual que los strings (y todos los demás tipos de secuencia incorporados), las listas pueden indexarse ​​y dividirse:"
   ]
  },
  {
   "cell_type": "code",
   "execution_count": 71,
   "metadata": {},
   "outputs": [
    {
     "data": {
      "text/plain": [
       "1"
      ]
     },
     "execution_count": 71,
     "metadata": {},
     "output_type": "execute_result"
    }
   ],
   "source": [
    "squares[0]  # indexing returns the item"
   ]
  },
  {
   "cell_type": "code",
   "execution_count": 72,
   "metadata": {},
   "outputs": [
    {
     "data": {
      "text/plain": [
       "25"
      ]
     },
     "execution_count": 72,
     "metadata": {},
     "output_type": "execute_result"
    }
   ],
   "source": [
    "squares[-1]"
   ]
  },
  {
   "cell_type": "code",
   "execution_count": 73,
   "metadata": {},
   "outputs": [
    {
     "data": {
      "text/plain": [
       "[9, 16, 25]"
      ]
     },
     "execution_count": 73,
     "metadata": {},
     "output_type": "execute_result"
    }
   ],
   "source": [
    "squares[-3:]  # slicing returns a new list"
   ]
  },
  {
   "cell_type": "markdown",
   "metadata": {},
   "source": [
    "Todas las operaciones de división devuelven una nueva lista que contiene los elementos solicitados. Esto significa que el siguiente segmento devuelve un shallow copy (https://docs.python.org/3/library/copy.html#shallow-vs-deep-copy) de la lista:"
   ]
  },
  {
   "cell_type": "code",
   "execution_count": 74,
   "metadata": {},
   "outputs": [
    {
     "data": {
      "text/plain": [
       "[1, 4, 9, 16, 25]"
      ]
     },
     "execution_count": 74,
     "metadata": {},
     "output_type": "execute_result"
    }
   ],
   "source": [
    "squares[:]"
   ]
  },
  {
   "cell_type": "markdown",
   "metadata": {},
   "source": [
    "Las listas también admiten operaciones como la concatenación:"
   ]
  },
  {
   "cell_type": "code",
   "execution_count": 75,
   "metadata": {},
   "outputs": [
    {
     "data": {
      "text/plain": [
       "[1, 4, 9, 16, 25, 36, 49, 64, 81, 100]"
      ]
     },
     "execution_count": 75,
     "metadata": {},
     "output_type": "execute_result"
    }
   ],
   "source": [
    "squares + [36, 49, 64, 81, 100]"
   ]
  },
  {
   "cell_type": "markdown",
   "metadata": {},
   "source": [
    "A diferencia de los strings, que son inmutables, las listas son de tipo mutable, es decir, es posible cambiar su contenido:"
   ]
  },
  {
   "cell_type": "code",
   "execution_count": 76,
   "metadata": {},
   "outputs": [],
   "source": [
    "cubes = [1, 8, 27, 65, 125]  # something's wrong here"
   ]
  },
  {
   "cell_type": "code",
   "execution_count": 77,
   "metadata": {},
   "outputs": [
    {
     "data": {
      "text/plain": [
       "64"
      ]
     },
     "execution_count": 77,
     "metadata": {},
     "output_type": "execute_result"
    }
   ],
   "source": [
    "4 ** 3  # the cube of 4 is 64, not 65!"
   ]
  },
  {
   "cell_type": "code",
   "execution_count": 78,
   "metadata": {},
   "outputs": [],
   "source": [
    "cubes[3] = 64  # replace the wrong value"
   ]
  },
  {
   "cell_type": "code",
   "execution_count": 79,
   "metadata": {},
   "outputs": [
    {
     "data": {
      "text/plain": [
       "[1, 8, 27, 64, 125]"
      ]
     },
     "execution_count": 79,
     "metadata": {},
     "output_type": "execute_result"
    }
   ],
   "source": [
    "cubes"
   ]
  },
  {
   "cell_type": "markdown",
   "metadata": {},
   "source": [
    "También puede agregar nuevos elementos al final de la lista, utilizando el método append() (veremos más acerca de los métodos más adelante):"
   ]
  },
  {
   "cell_type": "code",
   "execution_count": 80,
   "metadata": {},
   "outputs": [],
   "source": [
    "cubes.append(216)  # add the cube of 6"
   ]
  },
  {
   "cell_type": "code",
   "execution_count": 81,
   "metadata": {},
   "outputs": [],
   "source": [
    "cubes.append(7 ** 3)  # and the cube of 7"
   ]
  },
  {
   "cell_type": "code",
   "execution_count": 82,
   "metadata": {},
   "outputs": [
    {
     "data": {
      "text/plain": [
       "[1, 8, 27, 64, 125, 216, 343]"
      ]
     },
     "execution_count": 82,
     "metadata": {},
     "output_type": "execute_result"
    }
   ],
   "source": [
    "cubes"
   ]
  },
  {
   "cell_type": "markdown",
   "metadata": {},
   "source": [
    "La asignación a sectores también es posible, y esto incluso puede cambiar el tamaño de la lista o borrarla por completo:"
   ]
  },
  {
   "cell_type": "code",
   "execution_count": 83,
   "metadata": {},
   "outputs": [],
   "source": [
    "letters = ['a', 'b', 'c', 'd', 'e', 'f', 'g']"
   ]
  },
  {
   "cell_type": "code",
   "execution_count": 84,
   "metadata": {},
   "outputs": [
    {
     "data": {
      "text/plain": [
       "['a', 'b', 'c', 'd', 'e', 'f', 'g']"
      ]
     },
     "execution_count": 84,
     "metadata": {},
     "output_type": "execute_result"
    }
   ],
   "source": [
    "letters"
   ]
  },
  {
   "cell_type": "code",
   "execution_count": 85,
   "metadata": {},
   "outputs": [],
   "source": [
    "# replace some values\n",
    "letters[2:5] = ['C', 'D', 'E']"
   ]
  },
  {
   "cell_type": "code",
   "execution_count": 86,
   "metadata": {},
   "outputs": [
    {
     "data": {
      "text/plain": [
       "['a', 'b', 'C', 'D', 'E', 'f', 'g']"
      ]
     },
     "execution_count": 86,
     "metadata": {},
     "output_type": "execute_result"
    }
   ],
   "source": [
    "letters"
   ]
  },
  {
   "cell_type": "code",
   "execution_count": 87,
   "metadata": {},
   "outputs": [],
   "source": [
    "# now remove them\n",
    "letters[2:5] = []"
   ]
  },
  {
   "cell_type": "code",
   "execution_count": 88,
   "metadata": {},
   "outputs": [
    {
     "data": {
      "text/plain": [
       "['a', 'b', 'f', 'g']"
      ]
     },
     "execution_count": 88,
     "metadata": {},
     "output_type": "execute_result"
    }
   ],
   "source": [
    "letters"
   ]
  },
  {
   "cell_type": "code",
   "execution_count": 89,
   "metadata": {},
   "outputs": [],
   "source": [
    "# clear the list by replacing all the elements with an empty list\n",
    "letters[:] = []"
   ]
  },
  {
   "cell_type": "code",
   "execution_count": 90,
   "metadata": {},
   "outputs": [
    {
     "data": {
      "text/plain": [
       "[]"
      ]
     },
     "execution_count": 90,
     "metadata": {},
     "output_type": "execute_result"
    }
   ],
   "source": [
    "letters"
   ]
  },
  {
   "cell_type": "markdown",
   "metadata": {},
   "source": [
    "La función incorporada len() también se aplica a las listas:"
   ]
  },
  {
   "cell_type": "code",
   "execution_count": 91,
   "metadata": {},
   "outputs": [],
   "source": [
    "letters = ['a', 'b', 'c', 'd']"
   ]
  },
  {
   "cell_type": "code",
   "execution_count": 92,
   "metadata": {},
   "outputs": [
    {
     "data": {
      "text/plain": [
       "4"
      ]
     },
     "execution_count": 92,
     "metadata": {},
     "output_type": "execute_result"
    }
   ],
   "source": [
    "len(letters)"
   ]
  },
  {
   "cell_type": "markdown",
   "metadata": {},
   "source": [
    "Es posible anidar listas (crear listas que contengan otras listas), por ejemplo:"
   ]
  },
  {
   "cell_type": "code",
   "execution_count": 93,
   "metadata": {},
   "outputs": [],
   "source": [
    "a = ['a', 'b', 'c']"
   ]
  },
  {
   "cell_type": "code",
   "execution_count": 94,
   "metadata": {},
   "outputs": [],
   "source": [
    "n = [1, 2, 3]"
   ]
  },
  {
   "cell_type": "code",
   "execution_count": 95,
   "metadata": {},
   "outputs": [],
   "source": [
    "x = [a, n]"
   ]
  },
  {
   "cell_type": "code",
   "execution_count": 96,
   "metadata": {},
   "outputs": [
    {
     "data": {
      "text/plain": [
       "[['a', 'b', 'c'], [1, 2, 3]]"
      ]
     },
     "execution_count": 96,
     "metadata": {},
     "output_type": "execute_result"
    }
   ],
   "source": [
    "x"
   ]
  },
  {
   "cell_type": "code",
   "execution_count": 97,
   "metadata": {},
   "outputs": [
    {
     "data": {
      "text/plain": [
       "['a', 'b', 'c']"
      ]
     },
     "execution_count": 97,
     "metadata": {},
     "output_type": "execute_result"
    }
   ],
   "source": [
    "x[0]"
   ]
  },
  {
   "cell_type": "code",
   "execution_count": 98,
   "metadata": {},
   "outputs": [
    {
     "data": {
      "text/plain": [
       "'b'"
      ]
     },
     "execution_count": 98,
     "metadata": {},
     "output_type": "execute_result"
    }
   ],
   "source": [
    "x[0][1]"
   ]
  },
  {
   "cell_type": "markdown",
   "metadata": {},
   "source": [
    "### 3.2. Primeros pasos hacia la programación\n",
    "\n",
    "Por supuesto, podemos usar Python para tareas más complicadas que sumar dos y dos juntas. Por ejemplo, podemos escribir una subsecuencia inicial de la serie de Fibonacci de la siguiente manera:"
   ]
  },
  {
   "cell_type": "code",
   "execution_count": 99,
   "metadata": {},
   "outputs": [],
   "source": [
    "# Fibonacci series:\n",
    "# the sum of two elements defines the next\n",
    "a, b = 0, 1"
   ]
  },
  {
   "cell_type": "code",
   "execution_count": 101,
   "metadata": {},
   "outputs": [
    {
     "name": "stdout",
     "output_type": "stream",
     "text": [
      "0\n",
      "1\n",
      "1\n",
      "2\n",
      "3\n",
      "5\n",
      "8\n"
     ]
    }
   ],
   "source": [
    "while a < 10:\n",
    "    print(a)\n",
    "    a, b = b, a+b"
   ]
  },
  {
   "cell_type": "markdown",
   "metadata": {},
   "source": [
    "Este ejemplo presenta varias características nuevas.\n",
    "\n",
    "   - La primera línea contiene una asignación múltiple: las variables a y b obtienen simultáneamente los nuevos valores 0 y 1. En la última línea, esto se usa nuevamente, lo que demuestra que las expresiones en el lado derecho se evalúan primero antes de que cualquiera de las asignaciones tengan lugar. Las expresiones del lado derecho se evalúan de izquierda a derecha.\n",
    "   - El bucle while se ejecuta mientras la condición (aquí: a <10) permanezca verdadera. En Python, como en C, cualquier valor entero distinto de cero es verdadero; cero es falso La condición también puede ser una cadena o un valor de lista, de hecho cualquier secuencia; cualquier cosa con una longitud distinta de cero es verdadera, las secuencias vacías son falsas. La prueba utilizada en el ejemplo es una comparación simple. Los operadores de comparación estándar se escriben igual que en C: <(menor que),> (mayor que), == (igual a), <= (menor o igual que),> = (mayor o igual que) y! = (no es igual a).\n",
    "   - El cuerpo del bucle: la sangría es la forma en que Python agrupa las declaraciones. En el mensaje interactivo, debe escribir una pestaña o espacios para cada línea de sangría. En la práctica, preparará entradas más complicadas para Python con un editor de texto; Todos los editores de texto decentes tienen una función de sangría automática. Cuando una declaración compuesta se ingresa de manera interactiva, debe ir seguida de una línea en blanco para indicar la finalización (ya que el analizador no puede adivinar cuándo ha escrito la última línea). Tenga en cuenta que cada línea dentro de un bloque básico debe utilizar la misma cantidad de sangrías.\n",
    "   - La función print () escribe el valor de los argumentos que se le dan. Se diferencia de solo escribir la expresión que desea escribir (como lo hicimos anteriormente en los ejemplos de la calculadora) en la forma en que maneja múltiples argumentos, cantidades en coma flotante y cadenas. Las cadenas se imprimen sin comillas, y se inserta un espacio entre los elementos, para que pueda formatear bien las cosas, de esta manera:"
   ]
  },
  {
   "cell_type": "code",
   "execution_count": 102,
   "metadata": {},
   "outputs": [],
   "source": [
    "i = 256*256"
   ]
  },
  {
   "cell_type": "code",
   "execution_count": 103,
   "metadata": {},
   "outputs": [
    {
     "name": "stdout",
     "output_type": "stream",
     "text": [
      "The value of i is 65536\n"
     ]
    }
   ],
   "source": [
    "print('The value of i is', i)"
   ]
  },
  {
   "cell_type": "markdown",
   "metadata": {},
   "source": [
    "El argumento final de la palabra clave se puede utilizar para evitar la nueva línea después de la salida, o finalizar la salida con una cadena diferente:"
   ]
  },
  {
   "cell_type": "code",
   "execution_count": 104,
   "metadata": {},
   "outputs": [],
   "source": [
    "a, b = 0, 1"
   ]
  },
  {
   "cell_type": "code",
   "execution_count": 105,
   "metadata": {},
   "outputs": [
    {
     "name": "stdout",
     "output_type": "stream",
     "text": [
      "0,1,1,2,3,5,8,13,21,34,55,89,144,233,377,610,987,"
     ]
    }
   ],
   "source": [
    "while a < 1000:\n",
    "    print(a, end=',')\n",
    "    a, b = b, a+b"
   ]
  },
  {
   "cell_type": "markdown",
   "metadata": {},
   "source": [
    "## 4. Más Herramientas de Control de Flujo\n",
    "\n",
    "Además de la declaración while que se acaba de presentar, Python usa las declaraciones habituales de control de flujo conocidas de otros lenguajes, con algunos giros.\n",
    "\n",
    "### 4.1. Declaraciones con if\n",
    "\n",
    "\n",
    "Quizás el tipo de declaración más conocido es la declaración if. Por ejemplo:"
   ]
  },
  {
   "cell_type": "code",
   "execution_count": 111,
   "metadata": {},
   "outputs": [
    {
     "name": "stdout",
     "output_type": "stream",
     "text": [
      "Please enter an integer: 42\n"
     ]
    }
   ],
   "source": [
    "x = int(input(\"Please enter an integer: \"))"
   ]
  },
  {
   "cell_type": "code",
   "execution_count": 114,
   "metadata": {},
   "outputs": [
    {
     "name": "stdout",
     "output_type": "stream",
     "text": [
      "More\n"
     ]
    }
   ],
   "source": [
    "if x < 0:\n",
    "    x = 0\n",
    "    print('Negative changed to zero')\n",
    "elif x == 0:\n",
    "    print('Zero')\n",
    "elif x == 1:\n",
    "    print('Single')\n",
    "else:\n",
    "    print('More')"
   ]
  },
  {
   "cell_type": "markdown",
   "metadata": {},
   "source": [
    "Puede haber cero o más partes elif, y la parte else es opcional. La palabra clave \"elif\" es la abreviatura de \"else if\" y es útil para evitar una sangría excesiva. Una secuencia if ... elif ... elif ... es un sustituto de las declaraciones de cambio o de caso que se encuentran en otros idiomas.\n",
    "\n",
    "### 4.2. Declaraciones for\n",
    "\n",
    "La declaración for en Python difiere un poco de lo que puede estar acostumbrado en C o Pascal. En lugar de iterar siempre sobre una progresión aritmética de números (como en Pascal), o dar al usuario la capacidad de definir tanto el paso de iteración como la condición de detención (como C), la declaración for de Python itera sobre los elementos de cualquier secuencia (una lista o una cadena), en el orden en que aparecen en la secuencia. Por ejemplo (sin juego de palabras):"
   ]
  },
  {
   "cell_type": "code",
   "execution_count": 115,
   "metadata": {},
   "outputs": [],
   "source": [
    "# Measure some strings:\n",
    "words = ['cat', 'window', 'defenestrate']"
   ]
  },
  {
   "cell_type": "code",
   "execution_count": 116,
   "metadata": {},
   "outputs": [
    {
     "name": "stdout",
     "output_type": "stream",
     "text": [
      "cat 3\n",
      "window 6\n",
      "defenestrate 12\n"
     ]
    }
   ],
   "source": [
    "for w in words:\n",
    "    print(w, len(w))"
   ]
  },
  {
   "cell_type": "markdown",
   "metadata": {},
   "source": [
    "El código que modifica una colección mientras itera sobre esa misma colección puede ser difícil de entender. En cambio, generalmente es más sencillo recorrer una copia de la colección o crear una nueva colección:\n",
    "\n",
    "    # Strategy:  Iterate over a copy\n",
    "    for user, status in users.copy().items():\n",
    "        if status == 'inactive':\n",
    "            del users[user]\n",
    "\n",
    "    # Strategy:  Create a new collection\n",
    "    active_users = {}\n",
    "    for user, status in users.items():\n",
    "        if status == 'active':\n",
    "            active_users[user] = status\n",
    "            \n",
    "### 4.3. La función range()\n",
    "\n",
    "\n",
    "Si necesita iterar sobre una secuencia de números, la función incorporada range() es útil. Genera progresiones aritméticas:"
   ]
  },
  {
   "cell_type": "code",
   "execution_count": 118,
   "metadata": {},
   "outputs": [
    {
     "name": "stdout",
     "output_type": "stream",
     "text": [
      "0\n",
      "1\n",
      "2\n",
      "3\n",
      "4\n"
     ]
    }
   ],
   "source": [
    "for i in range(5):\n",
    "    print(i)"
   ]
  },
  {
   "cell_type": "markdown",
   "metadata": {},
   "source": [
    "El punto final dado nunca es parte de la secuencia generada; El rango (10) genera 10 valores, los índices legales para elementos de una secuencia de longitud 10. Es posible dejar que el rango comience en otro número, o especificar un incremento diferente (incluso negativo; a veces esto se llama el 'step'):\n",
    "\n",
    "    range(5, 10)\n",
    "       5, 6, 7, 8, 9\n",
    "\n",
    "    range(0, 10, 3)\n",
    "       0, 3, 6, 9\n",
    "    \n",
    "    range(-10, -100, -30)\n",
    "      -10, -40, -70\n",
    "      \n",
    "Para iterar sobre los índices de una secuencia, puede combinar range() y len() de la siguiente manera:"
   ]
  },
  {
   "cell_type": "code",
   "execution_count": 120,
   "metadata": {},
   "outputs": [],
   "source": [
    "a = ['Mary', 'had', 'a', 'little', 'lamb']"
   ]
  },
  {
   "cell_type": "code",
   "execution_count": 121,
   "metadata": {},
   "outputs": [
    {
     "name": "stdout",
     "output_type": "stream",
     "text": [
      "0 Mary\n",
      "1 had\n",
      "2 a\n",
      "3 little\n",
      "4 lamb\n"
     ]
    }
   ],
   "source": [
    "for i in range(len(a)):\n",
    "    print(i, a[i])"
   ]
  },
  {
   "cell_type": "markdown",
   "metadata": {},
   "source": [
    "En la mayoría de estos casos, sin embargo, es conveniente usar la función enumerate(), consulte Técnicas de bucle (https://docs.python.org/3/tutorial/datastructures.html#tut-loopidioms).\n",
    "\n",
    "Algo extraño sucede si solo imprime un rango:"
   ]
  },
  {
   "cell_type": "code",
   "execution_count": 122,
   "metadata": {},
   "outputs": [
    {
     "name": "stdout",
     "output_type": "stream",
     "text": [
      "range(0, 10)\n"
     ]
    }
   ],
   "source": [
    "print(range(10))"
   ]
  },
  {
   "cell_type": "markdown",
   "metadata": {},
   "source": [
    "En muchos sentidos, el objeto devuelto por range() se comporta como si fuera una lista, pero de hecho no lo es. Es un objeto que devuelve los elementos sucesivos de la secuencia deseada cuando se repite, pero en realidad no aparece en la lista, lo que ahorra espacio.\n",
    "\n",
    "Decimos que dicho objeto es iterable, es decir, adecuado como objetivo para funciones y construcciones que esperan algo de lo que puedan obtener elementos sucesivos hasta que se agote el suministro. Hemos visto que la instrucción for es una construcción de este tipo, mientras que un ejemplo de una función que toma un iterable es sum():"
   ]
  },
  {
   "cell_type": "code",
   "execution_count": 123,
   "metadata": {},
   "outputs": [
    {
     "data": {
      "text/plain": [
       "6"
      ]
     },
     "execution_count": 123,
     "metadata": {},
     "output_type": "execute_result"
    }
   ],
   "source": [
    "sum(range(4))  # 0 + 1 + 2 + 3"
   ]
  },
  {
   "cell_type": "markdown",
   "metadata": {},
   "source": [
    "Por último, quizás tenga curiosidad acerca de cómo obtener una lista de un rango. Aquí está la solución:"
   ]
  },
  {
   "cell_type": "code",
   "execution_count": 124,
   "metadata": {},
   "outputs": [
    {
     "data": {
      "text/plain": [
       "[0, 1, 2, 3]"
      ]
     },
     "execution_count": 124,
     "metadata": {},
     "output_type": "execute_result"
    }
   ],
   "source": [
    "list(range(4))"
   ]
  },
  {
   "cell_type": "markdown",
   "metadata": {},
   "source": [
    "### 4.4. Declaraciones con break y continue, y oraciones con el bucle else\n",
    "\n",
    "\n",
    "La declaración de break, como en C, se separa del encerramiento más interno para el ciclo while.\n",
    "\n",
    "Las declaraciones de bucle pueden tener una cláusula else; se ejecuta cuando el ciclo termina por agotamiento del iterable (con for) o cuando la condición se vuelve falsa (con while), pero no cuando el ciclo se termina con una declaración de break. Esto se ejemplifica con el siguiente ciclo, que busca números primos:"
   ]
  },
  {
   "cell_type": "code",
   "execution_count": 128,
   "metadata": {},
   "outputs": [
    {
     "name": "stdout",
     "output_type": "stream",
     "text": [
      "2 is a prime number\n",
      "3 is a prime number\n",
      "4 equals 2 * 2\n",
      "5 is a prime number\n",
      "6 equals 2 * 3\n",
      "7 is a prime number\n",
      "8 equals 2 * 4\n",
      "9 equals 3 * 3\n"
     ]
    }
   ],
   "source": [
    "for n in range(2, 10):\n",
    "    for x in range(2, n):\n",
    "        if n % x == 0:\n",
    "            print(n, 'equals', x, '*', n//x)\n",
    "            break\n",
    "    else:\n",
    "            # loop fell through without finding a factor\n",
    "            print(n, 'is a prime number')"
   ]
  },
  {
   "cell_type": "markdown",
   "metadata": {},
   "source": [
    "(Sí, este es el código correcto. Observe atentamente: la cláusula else pertenece al ciclo for, no a la instrucción if).\n",
    "\n",
    "Cuando se usa con un bucle, la cláusula else tiene más en común con la cláusula else de una declaración try que con la de las declaraciones if: la cláusula else de una declaración try se ejecuta cuando no ocurre ninguna excepción, y la cláusula else de un ciclo se ejecuta cuando no hay interrupción ocurre. Para obtener más información sobre la declaración de prueba y las excepciones, consulte Manejo de excepciones (https://docs.python.org/3/tutorial/errors.html#tut-handling).\n",
    "\n",
    "La instrucción continue, también tomada de C, continúa con la siguiente iteración del ciclo:"
   ]
  },
  {
   "cell_type": "code",
   "execution_count": 129,
   "metadata": {},
   "outputs": [
    {
     "name": "stdout",
     "output_type": "stream",
     "text": [
      "Found an even number 2\n",
      "Found a number 3\n",
      "Found an even number 4\n",
      "Found a number 5\n",
      "Found an even number 6\n",
      "Found a number 7\n",
      "Found an even number 8\n",
      "Found a number 9\n"
     ]
    }
   ],
   "source": [
    "for num in range(2, 10):\n",
    "    if num % 2 == 0:\n",
    "        print(\"Found an even number\", num)\n",
    "        continue\n",
    "    print(\"Found a number\", num)"
   ]
  },
  {
   "cell_type": "markdown",
   "metadata": {},
   "source": [
    "### 4.5. Declaraciones con pass\n",
    "\n",
    "La declaración con pass no hace nada. Se puede usar cuando se requiere una declaración sintácticamente pero el programa no requiere ninguna acción. Por ejemplo:"
   ]
  },
  {
   "cell_type": "raw",
   "metadata": {},
   "source": [
    "while True:\n",
    "    pass  # Busy-wait for keyboard interrupt (Ctrl+C)"
   ]
  },
  {
   "cell_type": "markdown",
   "metadata": {},
   "source": [
    "Esto se usa comúnmente para crear clases mínimas:"
   ]
  },
  {
   "cell_type": "raw",
   "metadata": {},
   "source": [
    "class MyEmptyClass:\n",
    "    pass"
   ]
  },
  {
   "cell_type": "markdown",
   "metadata": {},
   "source": [
    "Se puede usar otro pass de lugar como un marcador de posición para una función o cuerpo condicional cuando se trabaja en un nuevo código, lo que le permite seguir pensando en un nivel más abstracto. El pass se ignora en silencio:"
   ]
  },
  {
   "cell_type": "raw",
   "metadata": {},
   "source": [
    "def initlog(*args):\n",
    "    pass   # Remember to implement this!"
   ]
  },
  {
   "cell_type": "markdown",
   "metadata": {},
   "source": [
    "### 4.6. Definiendo funciones\n",
    "\n",
    "\n",
    "Podemos crear una función que escriba la serie de Fibonacci en un límite arbitrario:"
   ]
  },
  {
   "cell_type": "code",
   "execution_count": 1,
   "metadata": {},
   "outputs": [],
   "source": [
    "def fib(n):    # write Fibonacci series up to n\n",
    "    \"\"\"Print a Fibonacci series up to n.\"\"\"\n",
    "    a, b = 0, 1\n",
    "    while a < n:\n",
    "        print(a, end=' ')\n",
    "        a, b = b, a+b\n",
    "    print()"
   ]
  },
  {
   "cell_type": "code",
   "execution_count": 2,
   "metadata": {},
   "outputs": [
    {
     "name": "stdout",
     "output_type": "stream",
     "text": [
      "0 1 1 2 3 5 8 13 21 34 55 89 144 233 377 610 987 1597 \n"
     ]
    }
   ],
   "source": [
    "# Now call the function we just defined:\n",
    "fib(2000)"
   ]
  },
  {
   "cell_type": "markdown",
   "metadata": {},
   "source": [
    "La palabra clave def introduce una definición de función. Debe ir seguido del nombre de la función y la lista entre paréntesis de parámetros formales. Las declaraciones que forman el cuerpo de la función comienzan en la siguiente línea y deben usar sangría.\n",
    "\n",
    "La primera declaración del cuerpo de la función puede ser opcionalmente un literal de cadena; este literal de cadena es el string de documentación de la función, docstring (https://docs.python.org/3/tutorial/controlflow.html#tut-docstrings). Existen herramientas que utilizan docstrings para producir automáticamente documentación en línea o impresa, o para permitir que el usuario navegue interactivamente a través del código; es una buena práctica incluir cadenas de documentos en el código que escriba, así que acostúmbrese a hacerlo.\n",
    "\n",
    "La ejecución de una función introduce una nueva tabla de símbolos utilizada para las variables locales de la función. Más precisamente, todas las asignaciones de variables en una función almacenan el valor en la tabla de símbolos local; mientras que las referencias de variables se ven primero en la tabla de símbolos local, luego en las tablas de símbolos locales de las funciones de cierre, luego en la tabla de símbolos global y finalmente en la tabla de nombres incorporados. Por lo tanto, no se puede asignar directamente un valor dentro de una función a las variables globales y a las variables de las funciones de cierre (a menos que, para las variables globales, se nombren en una declaración global, o, para las variables de las funciones de cierre, se nombren en una declaración nonlocal), aunque pueden ser referenciado\n",
    "\n",
    "Los parámetros reales (argumentos) de una llamada de función se introducen en la tabla de símbolos local de la función llamada cuando se llama; por lo tanto, los argumentos se pasan utilizando call by value (donde value siempre es una referencia de objeto, no el valor del objeto). Cuando una función llama a otra función, se crea una nueva tabla de símbolos local para esa llamada.\n",
    "\n",
    "Una definición de función introduce el nombre de la función en la tabla de símbolos actual. El valor del nombre de la función tiene un tipo que el intérprete reconoce como una función definida por el usuario. Este valor puede asignarse a otro nombre que luego también puede usarse como una función. Esto sirve como un mecanismo general de cambio de nombre:"
   ]
  },
  {
   "cell_type": "code",
   "execution_count": 3,
   "metadata": {},
   "outputs": [
    {
     "data": {
      "text/plain": [
       "<function __main__.fib(n)>"
      ]
     },
     "execution_count": 3,
     "metadata": {},
     "output_type": "execute_result"
    }
   ],
   "source": [
    "fib"
   ]
  },
  {
   "cell_type": "code",
   "execution_count": 4,
   "metadata": {},
   "outputs": [],
   "source": [
    "f = fib"
   ]
  },
  {
   "cell_type": "code",
   "execution_count": 5,
   "metadata": {},
   "outputs": [
    {
     "name": "stdout",
     "output_type": "stream",
     "text": [
      "0 1 1 2 3 5 8 13 21 34 55 89 \n"
     ]
    }
   ],
   "source": [
    "f(100)"
   ]
  },
  {
   "cell_type": "markdown",
   "metadata": {},
   "source": [
    "Al provenir de otros idiomas, puede objetar que fib no es una función sino un procedimiento, ya que no devuelve un valor. De hecho, incluso las funciones sin una declaración return devuelven un valor, aunque sea bastante aburrido. Este valor se llama None (es un nombre incorporado). Escribir el valor None es normalmente suprimido por el intérprete si fuera el único valor escrito. Puede verlo si realmente desea usar print ():"
   ]
  },
  {
   "cell_type": "code",
   "execution_count": 6,
   "metadata": {},
   "outputs": [
    {
     "name": "stdout",
     "output_type": "stream",
     "text": [
      "\n"
     ]
    }
   ],
   "source": [
    "fib(0)"
   ]
  },
  {
   "cell_type": "code",
   "execution_count": 7,
   "metadata": {},
   "outputs": [
    {
     "name": "stdout",
     "output_type": "stream",
     "text": [
      "\n",
      "None\n"
     ]
    }
   ],
   "source": [
    "print(fib(0))"
   ]
  },
  {
   "cell_type": "markdown",
   "metadata": {},
   "source": [
    "Es simple escribir una función que devuelva una lista de los números de la serie de Fibonacci, en lugar de imprimirla:"
   ]
  },
  {
   "cell_type": "code",
   "execution_count": 8,
   "metadata": {},
   "outputs": [],
   "source": [
    "def fib2(n):  # return Fibonacci series up to n\n",
    "    \"\"\"Return a list containing the Fibonacci series up to n.\"\"\"\n",
    "    result = []\n",
    "    a, b = 0, 1\n",
    "    while a < n:\n",
    "        result.append(a)    # see below\n",
    "        a, b = b, a+b\n",
    "    return result"
   ]
  },
  {
   "cell_type": "code",
   "execution_count": 9,
   "metadata": {},
   "outputs": [],
   "source": [
    "f100 = fib2(100)    # call it"
   ]
  },
  {
   "cell_type": "code",
   "execution_count": 10,
   "metadata": {},
   "outputs": [
    {
     "data": {
      "text/plain": [
       "[0, 1, 1, 2, 3, 5, 8, 13, 21, 34, 55, 89]"
      ]
     },
     "execution_count": 10,
     "metadata": {},
     "output_type": "execute_result"
    }
   ],
   "source": [
    "f100                # write the result"
   ]
  },
  {
   "cell_type": "markdown",
   "metadata": {},
   "source": [
    "Este ejemplo, como de costumbre, muestra algunas características nuevas de Python:\n",
    "\n",
    "   - La declaración return regresa con un valor de una función. return sin un argumento de expresión devuelve None. Fallar al final de una función también devuelve None.\n",
    "   - La declaración result.append (a) llama a un método del resultado del objeto de lista. Un método es una función que \"pertenece\" a un objeto y se llama obj.methodname, donde obj es algún objeto (esto puede ser una expresión), y methodname es el nombre de un método definido por el tipo de objeto. Diferentes tipos definen diferentes métodos. Los métodos de diferentes tipos pueden tener el mismo nombre sin causar ambigüedad. (Es posible definir sus propios tipos y métodos de objetos, usando clases, vea Clases) El método append () que se muestra en el ejemplo está definido para objetos de lista; agrega un nuevo elemento al final de la lista. En este ejemplo, es equivalente a resultado = resultado + [a], pero más eficiente.\n",
    "\n",
    "### 4.7. Más funciones de definición\n",
    "\n",
    "También es posible definir funciones con un número variable de argumentos. Hay tres formas, que se pueden combinar.\n",
    "\n",
    "#### 4.7.1. Valores de argumento predeterminados\n",
    "La forma más útil es especificar un valor predeterminado para uno o más argumentos. Esto crea una función que se puede invocar con menos argumentos de los que se define para permitir. Por ejemplo:"
   ]
  },
  {
   "cell_type": "code",
   "execution_count": 11,
   "metadata": {},
   "outputs": [],
   "source": [
    "def ask_ok(prompt, retries=4, reminder='Please try again!'):\n",
    "    while True:\n",
    "        ok = input(prompt)\n",
    "        if ok in ('y', 'ye', 'yes'):\n",
    "            return True\n",
    "        if ok in ('n', 'no', 'nop', 'nope'):\n",
    "            return False\n",
    "        retries = retries - 1\n",
    "        if retries < 0:\n",
    "            raise ValueError('invalid user response')\n",
    "        print(reminder)"
   ]
  },
  {
   "cell_type": "markdown",
   "metadata": {},
   "source": [
    "Esta función se puede llamar de varias maneras:\n",
    "\n",
    "   - dando solo el argumento obligatorio: ask_ok ('¿Realmente quieres salir?')\n",
    "   - dando uno de los argumentos opcionales: ask_ok ('¿OK para sobrescribir el archivo?', 2)\n",
    "   - o incluso dando todos los argumentos: ask_ok ('¿OK para sobrescribir el archivo?', 2, '¡Vamos, solo sí o no!')\n",
    "\n",
    "Este ejemplo también introduce la palabra clave in. Esto prueba si una secuencia contiene o no un cierto valor.\n",
    "\n",
    "Los valores predeterminados se evalúan en el punto de definición de la función en el defining scope, de modo que"
   ]
  },
  {
   "cell_type": "code",
   "execution_count": 12,
   "metadata": {},
   "outputs": [],
   "source": [
    "i = 5"
   ]
  },
  {
   "cell_type": "code",
   "execution_count": 13,
   "metadata": {},
   "outputs": [],
   "source": [
    "def f(arg=i):\n",
    "    print(arg)"
   ]
  },
  {
   "cell_type": "code",
   "execution_count": 14,
   "metadata": {},
   "outputs": [],
   "source": [
    "i = 6"
   ]
  },
  {
   "cell_type": "code",
   "execution_count": 15,
   "metadata": {},
   "outputs": [
    {
     "name": "stdout",
     "output_type": "stream",
     "text": [
      "5\n"
     ]
    }
   ],
   "source": [
    "f()"
   ]
  },
  {
   "cell_type": "markdown",
   "metadata": {},
   "source": [
    "Advertencia importante: el valor predeterminado se evalúa solo una vez. Esto hace la diferencia cuando el valor predeterminado es un objeto mutable como una lista, diccionario o instancias de la mayoría de las clases. Por ejemplo, la siguiente función acumula los argumentos que se le pasan en llamadas posteriores:"
   ]
  },
  {
   "cell_type": "code",
   "execution_count": 16,
   "metadata": {},
   "outputs": [],
   "source": [
    "def f(a, L=[]):\n",
    "    L.append(a)\n",
    "    return L"
   ]
  },
  {
   "cell_type": "code",
   "execution_count": 17,
   "metadata": {},
   "outputs": [
    {
     "name": "stdout",
     "output_type": "stream",
     "text": [
      "[1]\n"
     ]
    }
   ],
   "source": [
    "print(f(1))"
   ]
  },
  {
   "cell_type": "code",
   "execution_count": 18,
   "metadata": {},
   "outputs": [
    {
     "name": "stdout",
     "output_type": "stream",
     "text": [
      "[1, 2]\n"
     ]
    }
   ],
   "source": [
    "print(f(2))"
   ]
  },
  {
   "cell_type": "code",
   "execution_count": 19,
   "metadata": {},
   "outputs": [
    {
     "name": "stdout",
     "output_type": "stream",
     "text": [
      "[1, 2, 3]\n"
     ]
    }
   ],
   "source": [
    "print(f(3))"
   ]
  },
  {
   "cell_type": "markdown",
   "metadata": {},
   "source": [
    "Si no desea que el valor predeterminado se comparta entre llamadas posteriores, puede escribir la función de esta manera:"
   ]
  },
  {
   "cell_type": "code",
   "execution_count": 20,
   "metadata": {},
   "outputs": [],
   "source": [
    "def f(a, L=None):\n",
    "    if L is None:\n",
    "        L = []\n",
    "    L.append(a)\n",
    "    return L"
   ]
  },
  {
   "cell_type": "markdown",
   "metadata": {},
   "source": [
    "#### 4.7.2. Argumentos de palabras clave\n",
    "\n",
    "Las funciones también se pueden invocar utilizando argumentos de palabras clave de la forma kwarg = valor. Por ejemplo, la siguiente función: si no desea que el valor predeterminado se comparta entre llamadas posteriores, puede escribir la función de esta manera:"
   ]
  },
  {
   "cell_type": "code",
   "execution_count": 21,
   "metadata": {},
   "outputs": [],
   "source": [
    "def parrot(voltage, state='a stiff', action='voom', type='Norwegian Blue'):\n",
    "    print(\"-- This parrot wouldn't\", action, end=' ')\n",
    "    print(\"if you put\", voltage, \"volts through it.\")\n",
    "    print(\"-- Lovely plumage, the\", type)\n",
    "    print(\"-- It's\", state, \"!\")"
   ]
  },
  {
   "cell_type": "markdown",
   "metadata": {},
   "source": [
    "acepta un argumento requerido (voltaje) y tres argumentos opcionales (estado, acción y tipo). Esta función se puede llamar de cualquiera de las siguientes maneras:"
   ]
  },
  {
   "cell_type": "code",
   "execution_count": 23,
   "metadata": {},
   "outputs": [
    {
     "name": "stdout",
     "output_type": "stream",
     "text": [
      "-- This parrot wouldn't voom if you put 1000 volts through it.\n",
      "-- Lovely plumage, the Norwegian Blue\n",
      "-- It's a stiff !\n",
      "-- This parrot wouldn't voom if you put 1000 volts through it.\n",
      "-- Lovely plumage, the Norwegian Blue\n",
      "-- It's a stiff !\n",
      "-- This parrot wouldn't VOOOOOM if you put 1000000 volts through it.\n",
      "-- Lovely plumage, the Norwegian Blue\n",
      "-- It's a stiff !\n",
      "-- This parrot wouldn't VOOOOOM if you put 1000000 volts through it.\n",
      "-- Lovely plumage, the Norwegian Blue\n",
      "-- It's a stiff !\n",
      "-- This parrot wouldn't jump if you put a million volts through it.\n",
      "-- Lovely plumage, the Norwegian Blue\n",
      "-- It's bereft of life !\n",
      "-- This parrot wouldn't voom if you put a thousand volts through it.\n",
      "-- Lovely plumage, the Norwegian Blue\n",
      "-- It's pushing up the daisies !\n"
     ]
    }
   ],
   "source": [
    "parrot(1000)                                          # 1 positional argument\n",
    "parrot(voltage=1000)                                  # 1 keyword argument\n",
    "parrot(voltage=1000000, action='VOOOOOM')             # 2 keyword arguments\n",
    "parrot(action='VOOOOOM', voltage=1000000)             # 2 keyword arguments\n",
    "parrot('a million', 'bereft of life', 'jump')         # 3 positional arguments\n",
    "parrot('a thousand', state='pushing up the daisies')  # 1 positional, 1 keyword"
   ]
  },
  {
   "cell_type": "markdown",
   "metadata": {},
   "source": [
    "pero todas las siguientes llamadas serían inválidas:"
   ]
  },
  {
   "cell_type": "code",
   "execution_count": 24,
   "metadata": {},
   "outputs": [
    {
     "ename": "SyntaxError",
     "evalue": "positional argument follows keyword argument (<ipython-input-24-2ac707ad11c1>, line 2)",
     "output_type": "error",
     "traceback": [
      "\u001b[1;36m  File \u001b[1;32m\"<ipython-input-24-2ac707ad11c1>\"\u001b[1;36m, line \u001b[1;32m2\u001b[0m\n\u001b[1;33m    parrot(voltage=5.0, 'dead')  # non-keyword argument after a keyword argument\u001b[0m\n\u001b[1;37m                       ^\u001b[0m\n\u001b[1;31mSyntaxError\u001b[0m\u001b[1;31m:\u001b[0m positional argument follows keyword argument\n"
     ]
    }
   ],
   "source": [
    "parrot()                     # required argument missing\n",
    "parrot(voltage=5.0, 'dead')  # non-keyword argument after a keyword argument\n",
    "parrot(110, voltage=220)     # duplicate value for the same argument\n",
    "parrot(actor='John Cleese')  # unknown keyword argument"
   ]
  },
  {
   "cell_type": "markdown",
   "metadata": {},
   "source": [
    "En una llamada a función, los argumentos de palabras clave deben seguir argumentos posicionales. Todos los argumentos de palabras clave pasados deben coincidir con uno de los argumentos aceptados por la función (por ejemplo, actor no es un argumento válido para la función de parrot), y su orden no es importante. Esto también incluye argumentos no opcionales (por ejemplo, parrot(voltaje = 1000) también es válido). Ningún argumento puede recibir un valor más de una vez. Aquí hay un ejemplo que falla debido a esta restricción:"
   ]
  },
  {
   "cell_type": "code",
   "execution_count": 25,
   "metadata": {},
   "outputs": [],
   "source": [
    "def function(a):\n",
    "    pass"
   ]
  },
  {
   "cell_type": "code",
   "execution_count": 26,
   "metadata": {},
   "outputs": [
    {
     "ename": "TypeError",
     "evalue": "function() got multiple values for argument 'a'",
     "output_type": "error",
     "traceback": [
      "\u001b[1;31m---------------------------------------------------------------------------\u001b[0m",
      "\u001b[1;31mTypeError\u001b[0m                                 Traceback (most recent call last)",
      "\u001b[1;32m<ipython-input-26-34e44d693230>\u001b[0m in \u001b[0;36m<module>\u001b[1;34m\u001b[0m\n\u001b[1;32m----> 1\u001b[1;33m \u001b[0mfunction\u001b[0m\u001b[1;33m(\u001b[0m\u001b[1;36m0\u001b[0m\u001b[1;33m,\u001b[0m \u001b[0ma\u001b[0m\u001b[1;33m=\u001b[0m\u001b[1;36m0\u001b[0m\u001b[1;33m)\u001b[0m\u001b[1;33m\u001b[0m\u001b[1;33m\u001b[0m\u001b[0m\n\u001b[0m",
      "\u001b[1;31mTypeError\u001b[0m: function() got multiple values for argument 'a'"
     ]
    }
   ],
   "source": [
    "function(0, a=0)"
   ]
  },
  {
   "cell_type": "markdown",
   "metadata": {},
   "source": [
    "Cuando está presente un parámetro de la forma ** name , recibe un diccionario que contiene todos los argumentos de palabras clave, excepto los correspondientes a un parámetro formal. Esto se puede combinar con un parámetro de la forma *name (descrito en la siguiente subsección) que recibe una tupla que contiene los argumentos posicionales más allá de la lista de parámetros formales. (*name debe aparecer antes de ** name). Por ejemplo, si definimos una función como esta:"
   ]
  },
  {
   "cell_type": "code",
   "execution_count": 27,
   "metadata": {},
   "outputs": [],
   "source": [
    "def cheeseshop(kind, *arguments, **keywords):\n",
    "    print(\"-- Do you have any\", kind, \"?\")\n",
    "    print(\"-- I'm sorry, we're all out of\", kind)\n",
    "    for arg in arguments:\n",
    "        print(arg)\n",
    "    print(\"-\" * 40)\n",
    "    for kw in keywords:\n",
    "        print(kw, \":\", keywords[kw])"
   ]
  },
  {
   "cell_type": "markdown",
   "metadata": {},
   "source": [
    "Se podría llamar así:"
   ]
  },
  {
   "cell_type": "code",
   "execution_count": 28,
   "metadata": {},
   "outputs": [
    {
     "name": "stdout",
     "output_type": "stream",
     "text": [
      "-- Do you have any Limburger ?\n",
      "-- I'm sorry, we're all out of Limburger\n",
      "It's very runny, sir.\n",
      "It's really very, VERY runny, sir.\n",
      "----------------------------------------\n",
      "shopkeeper : Michael Palin\n",
      "client : John Cleese\n",
      "sketch : Cheese Shop Sketch\n"
     ]
    }
   ],
   "source": [
    "cheeseshop(\"Limburger\", \"It's very runny, sir.\",\n",
    "           \"It's really very, VERY runny, sir.\",\n",
    "           shopkeeper=\"Michael Palin\",\n",
    "           client=\"John Cleese\",\n",
    "           sketch=\"Cheese Shop Sketch\")"
   ]
  },
  {
   "cell_type": "markdown",
   "metadata": {},
   "source": [
    "Tenga en cuenta que se garantiza que el orden en que se imprimen los argumentos de las palabras clave coincide con el orden en que se proporcionaron en la llamada a la función.\n",
    "\n",
    "#### 4.7.3. Parámetros especiales\n",
    "\n",
    "Por defecto, los argumentos se pueden pasar a una función de Python por posición o explícitamente por palabra clave. Para facilitar la lectura y el rendimiento, tiene sentido restringir la forma en que se pueden pasar los argumentos para que un desarrollador solo tenga que mirar la definición de la función para determinar si los elementos se pasan por posición, por posición o palabra clave, o por palabra clave.\n",
    "\n",
    "Una definición de función puede verse así:\n",
    "\n",
    "    def f(pos1, pos2, /, pos_or_kwd, *, kwd1, kwd2):\n",
    "          -----------    ----------     ----------\n",
    "            |             |                  |\n",
    "            |        Positional or keyword   |\n",
    "            |                                - Keyword only\n",
    "             -- Positional only\n",
    "         \n",
    "donde / y * son opcionales. Si se usan, estos símbolos indican el tipo de parámetro según cómo se pueden pasar los argumentos a la función: solo posicional, posicional o palabra clave y solo palabra clave. Los parámetros de palabras clave también se denominan parámetros con nombre.\n",
    "\n",
    "##### 4.7.3.1. Argumentos Positional-or-Keyword\n",
    "Si / y * no están presentes en la definición de la función, los argumentos se pueden pasar a una función por posición o por palabra clave.\n",
    "\n",
    "##### 4.7.3.2. Parámetros Positional-Only\n",
    "Mirando esto con un poco más de detalle, es posible marcar ciertos parámetros como solo posicionales. Si es solo posicional, el orden de los parámetros es importante y los parámetros no se pueden pasar por palabra clave. Los parámetros de solo posición se colocan antes de un / (barra inclinada). El / se usa para separar lógicamente los parámetros solo posicionales del resto de los parámetros. Si no hay / en la definición de la función, no hay parámetros solo posicionales.\n",
    "\n",
    "Los parámetros que siguen a / pueden ser positional-or-keyword o keyword-only.\n",
    "\n",
    "##### 4.7.3.3. Argumentos Keyword-Only\n",
    "Para marcar los parámetros como solo palabras clave, indicando que los parámetros deben pasarse por argumento de palabra clave, coloque un * en la lista de argumentos justo antes del primer parámetro keywor-only.\n",
    "\n",
    "##### 4.7.3.4. Ejemplos de funciones\n",
    "Considere las siguientes definiciones de funciones de ejemplo prestando especial atención a los marcadores / y *:\n",
    "\n",
    "**Nota:** algunos comandos requieren la versión de python 3.8, por lo que en ésta sección algunos ejercicios no se pueden ejecutar y, se obtiene errores en la sintáxis. Por lo tanto, se procede a escribir los resultados con céldas no ejecutables."
   ]
  },
  {
   "cell_type": "code",
   "execution_count": 3,
   "metadata": {},
   "outputs": [],
   "source": [
    "def standard_arg(arg):\n",
    "    print(arg)"
   ]
  },
  {
   "cell_type": "raw",
   "metadata": {},
   "source": [
    "def pos_only_arg(arg, /):\n",
    "    print(arg)"
   ]
  },
  {
   "cell_type": "code",
   "execution_count": 5,
   "metadata": {},
   "outputs": [],
   "source": [
    "def kwd_only_arg(*, arg):\n",
    "    print(arg)"
   ]
  },
  {
   "cell_type": "raw",
   "metadata": {},
   "source": [
    "def combined_example(pos_only, /, standard, *, kwd_only):\n",
    "    print(pos_only, standard, kwd_only)"
   ]
  },
  {
   "cell_type": "markdown",
   "metadata": {},
   "source": [
    "La primera definición de función, standard_arg, la forma más familiar, no impone restricciones a la convención de llamada y los argumentos se pueden pasar por posición o palabra clave:"
   ]
  },
  {
   "cell_type": "code",
   "execution_count": 4,
   "metadata": {},
   "outputs": [
    {
     "name": "stdout",
     "output_type": "stream",
     "text": [
      "2\n"
     ]
    }
   ],
   "source": [
    "standard_arg(2)"
   ]
  },
  {
   "cell_type": "code",
   "execution_count": 6,
   "metadata": {},
   "outputs": [
    {
     "name": "stdout",
     "output_type": "stream",
     "text": [
      "2\n"
     ]
    }
   ],
   "source": [
    "standard_arg(arg=2)"
   ]
  },
  {
   "cell_type": "markdown",
   "metadata": {},
   "source": [
    "La segunda función pos_only_arg está restringida a usar solo parámetros posicionales ya que hay un / en la definición de la función:"
   ]
  },
  {
   "cell_type": "raw",
   "metadata": {},
   "source": [
    ">>> pos_only_arg(1)\n",
    "1\n",
    "\n",
    ">>> pos_only_arg(arg=1)\n",
    "Traceback (most recent call last):\n",
    "  File \"<stdin>\", line 1, in <module>\n",
    "TypeError: pos_only_arg() got an unexpected keyword argument 'arg'"
   ]
  },
  {
   "cell_type": "markdown",
   "metadata": {},
   "source": [
    "La tercera función kwd_only_args solo permite argumentos de palabras clave como se indica con un * en la definición de la función:"
   ]
  },
  {
   "cell_type": "code",
   "execution_count": 7,
   "metadata": {},
   "outputs": [
    {
     "ename": "TypeError",
     "evalue": "kwd_only_arg() takes 0 positional arguments but 1 was given",
     "output_type": "error",
     "traceback": [
      "\u001b[1;31m---------------------------------------------------------------------------\u001b[0m",
      "\u001b[1;31mTypeError\u001b[0m                                 Traceback (most recent call last)",
      "\u001b[1;32m<ipython-input-7-896c53ef896c>\u001b[0m in \u001b[0;36m<module>\u001b[1;34m\u001b[0m\n\u001b[1;32m----> 1\u001b[1;33m \u001b[0mkwd_only_arg\u001b[0m\u001b[1;33m(\u001b[0m\u001b[1;36m3\u001b[0m\u001b[1;33m)\u001b[0m\u001b[1;33m\u001b[0m\u001b[1;33m\u001b[0m\u001b[0m\n\u001b[0m",
      "\u001b[1;31mTypeError\u001b[0m: kwd_only_arg() takes 0 positional arguments but 1 was given"
     ]
    }
   ],
   "source": [
    "kwd_only_arg(3)"
   ]
  },
  {
   "cell_type": "code",
   "execution_count": 8,
   "metadata": {},
   "outputs": [
    {
     "name": "stdout",
     "output_type": "stream",
     "text": [
      "3\n"
     ]
    }
   ],
   "source": [
    "kwd_only_arg(arg=3)"
   ]
  },
  {
   "cell_type": "markdown",
   "metadata": {},
   "source": [
    "Y el último usa las tres convenciones de llamada en la misma definición de función:"
   ]
  },
  {
   "cell_type": "raw",
   "metadata": {},
   "source": [
    ">>> combined_example(1, 2, 3)\n",
    "Traceback (most recent call last):\n",
    "  File \"<stdin>\", line 1, in <module>\n",
    "TypeError: combined_example() takes 2 positional arguments but 3 were given\n",
    "\n",
    ">>> combined_example(1, 2, kwd_only=3)\n",
    "1 2 3\n",
    "\n",
    ">>> combined_example(1, standard=2, kwd_only=3)\n",
    "1 2 3\n",
    "\n",
    ">>> combined_example(pos_only=1, standard=2, kwd_only=3)\n",
    "Traceback (most recent call last):\n",
    "  File \"<stdin>\", line 1, in <module>\n",
    "TypeError: combined_example() got an unexpected keyword argument 'pos_only'"
   ]
  },
  {
   "cell_type": "markdown",
   "metadata": {},
   "source": [
    "Finalmente, considere esta definición de función que tiene una posible colisión entre el nombre del argumento posicional y ** kwds que tiene el nombre como clave:"
   ]
  },
  {
   "cell_type": "code",
   "execution_count": 9,
   "metadata": {},
   "outputs": [],
   "source": [
    "def foo(name, **kwds):\n",
    "    return 'name' in kwds"
   ]
  },
  {
   "cell_type": "markdown",
   "metadata": {},
   "source": [
    "No hay una llamada posible que haga que devuelva True, ya que la palabra clave 'nombre' siempre se unirá al primer parámetro. Por ejemplo:"
   ]
  },
  {
   "cell_type": "code",
   "execution_count": 10,
   "metadata": {},
   "outputs": [
    {
     "ename": "TypeError",
     "evalue": "foo() got multiple values for argument 'name'",
     "output_type": "error",
     "traceback": [
      "\u001b[1;31m---------------------------------------------------------------------------\u001b[0m",
      "\u001b[1;31mTypeError\u001b[0m                                 Traceback (most recent call last)",
      "\u001b[1;32m<ipython-input-10-1e719af70668>\u001b[0m in \u001b[0;36m<module>\u001b[1;34m\u001b[0m\n\u001b[1;32m----> 1\u001b[1;33m \u001b[0mfoo\u001b[0m\u001b[1;33m(\u001b[0m\u001b[1;36m1\u001b[0m\u001b[1;33m,\u001b[0m \u001b[1;33m**\u001b[0m\u001b[1;33m{\u001b[0m\u001b[1;34m'name'\u001b[0m\u001b[1;33m:\u001b[0m \u001b[1;36m2\u001b[0m\u001b[1;33m}\u001b[0m\u001b[1;33m)\u001b[0m\u001b[1;33m\u001b[0m\u001b[1;33m\u001b[0m\u001b[0m\n\u001b[0m",
      "\u001b[1;31mTypeError\u001b[0m: foo() got multiple values for argument 'name'"
     ]
    }
   ],
   "source": [
    "foo(1, **{'name': 2})"
   ]
  },
  {
   "cell_type": "markdown",
   "metadata": {},
   "source": [
    "Pero usando / (argumentos solo posicionales), es posible ya que permite el nombre como argumento posicional y 'nombre' como clave en los argumentos de palabras clave:"
   ]
  },
  {
   "cell_type": "raw",
   "metadata": {},
   "source": [
    "def foo(name, /, **kwds):\n",
    "    return 'name' in kwds\n",
    ">>> foo(1, **{'name': 2})\n",
    "True"
   ]
  },
  {
   "cell_type": "markdown",
   "metadata": {},
   "source": [
    "En otras palabras, los nombres de los parámetros solo posicionales se pueden usar en ** kwds sin ambigüedad.\n",
    "\n",
    "##### 4.7.3.5. Recap\n",
    "The use case will determine which parameters to use in the function definition:"
   ]
  },
  {
   "cell_type": "raw",
   "metadata": {},
   "source": [
    "def f(pos1, pos2, /, pos_or_kwd, *, kwd1, kwd2):"
   ]
  },
  {
   "cell_type": "markdown",
   "metadata": {},
   "source": [
    "Como orientación:\n",
    "\n",
    "   - Use positional-only si desea que el nombre de los parámetros no esté disponible para el usuario. Esto es útil cuando los nombres de los parámetros no tienen un significado real, si desea imponer el orden de los argumentos cuando se llama a la función o si necesita tomar algunos parámetros posicionales y palabras clave arbitrarias.\n",
    "   - Use keyword-only cuando los nombres tengan significado y la definición de la función sea más comprensible al ser explícito con los nombres o si desea evitar que los usuarios confíen en la posición del argumento que se pasa.\n",
    "   - Para una API, use positional-only para evitar que se rompan los cambios de la API si el nombre del parámetro se modifica en el futuro.\n",
    "   \n",
    "#### 4.7.4. Listas de argumentos arbitario\n",
    "\n",
    "Finalmente, la opción menos utilizada es especificar que se puede llamar a una función con un número arbitrario de argumentos. Estos argumentos estarán envueltos en una tupla (ver Tuplas y Secuencias). Antes del número variable de argumentos, pueden ocurrir cero o más argumentos normales."
   ]
  },
  {
   "cell_type": "code",
   "execution_count": 13,
   "metadata": {},
   "outputs": [],
   "source": [
    "def write_multiple_items(file, separator, *args):\n",
    "    file.write(separator.join(args))"
   ]
  },
  {
   "cell_type": "markdown",
   "metadata": {},
   "source": [
    "Normalmente, estos argumentos variados serán los últimos en la lista de parámetros formales, ya que recogen todos los argumentos de entrada restantes que se pasan a la función. Cualquier parámetro formal que ocurra después del parámetro * args son argumentos de \"solo palabras clave\", lo que significa que solo pueden usarse como palabras clave en lugar de argumentos posicionales."
   ]
  },
  {
   "cell_type": "code",
   "execution_count": 14,
   "metadata": {},
   "outputs": [],
   "source": [
    "def concat(*args, sep=\"/\"):\n",
    "    return sep.join(args)"
   ]
  },
  {
   "cell_type": "code",
   "execution_count": 15,
   "metadata": {},
   "outputs": [
    {
     "data": {
      "text/plain": [
       "'earth/mars/venus'"
      ]
     },
     "execution_count": 15,
     "metadata": {},
     "output_type": "execute_result"
    }
   ],
   "source": [
    "concat(\"earth\", \"mars\", \"venus\")"
   ]
  },
  {
   "cell_type": "code",
   "execution_count": 16,
   "metadata": {},
   "outputs": [
    {
     "data": {
      "text/plain": [
       "'earth.mars.venus'"
      ]
     },
     "execution_count": 16,
     "metadata": {},
     "output_type": "execute_result"
    }
   ],
   "source": [
    "concat(\"earth\", \"mars\", \"venus\", sep=\".\")"
   ]
  },
  {
   "cell_type": "markdown",
   "metadata": {},
   "source": [
    "#### 4.7.5. Listas de unpacking argument\n",
    "\n",
    "La situación inversa ocurre cuando los argumentos ya están en una lista o tupla pero necesitan ser desempaquetados para una llamada de función que requiere argumentos posicionales separados. Por ejemplo, la función incorporada range() espera iniciar y detener argumentos por separado. Si no están disponibles por separado, escriba la llamada a la función con el operador * para desempaquetar los argumentos de una lista o tupla:"
   ]
  },
  {
   "cell_type": "code",
   "execution_count": 17,
   "metadata": {},
   "outputs": [
    {
     "data": {
      "text/plain": [
       "[3, 4, 5]"
      ]
     },
     "execution_count": 17,
     "metadata": {},
     "output_type": "execute_result"
    }
   ],
   "source": [
    "list(range(3, 6))            # normal call with separate arguments"
   ]
  },
  {
   "cell_type": "code",
   "execution_count": 18,
   "metadata": {},
   "outputs": [],
   "source": [
    "args = [3, 6]"
   ]
  },
  {
   "cell_type": "code",
   "execution_count": 19,
   "metadata": {},
   "outputs": [
    {
     "data": {
      "text/plain": [
       "[3, 4, 5]"
      ]
     },
     "execution_count": 19,
     "metadata": {},
     "output_type": "execute_result"
    }
   ],
   "source": [
    "list(range(*args))            # call with arguments unpacked from a list"
   ]
  },
  {
   "cell_type": "markdown",
   "metadata": {},
   "source": [
    "#### 4.7.6. Expresiones lambda\n",
    "\n",
    "Se pueden crear pequeñas funciones anónimas con la palabra clave lambda. Esta función devuelve la suma de sus dos argumentos: lambda a, b: a + b. Las funciones de Lambda se pueden usar donde se requieran objetos de función. Están sintácticamente restringidos a una sola expresión. Semánticamente, son solo azúcar sintáctico para una definición de función normal. Al igual que las definiciones de funciones anidadas, las funciones lambda pueden hacer referencia a variables del ámbito que las contiene:"
   ]
  },
  {
   "cell_type": "code",
   "execution_count": 20,
   "metadata": {},
   "outputs": [],
   "source": [
    "def make_incrementor(n):\n",
    "    return lambda x: x + n"
   ]
  },
  {
   "cell_type": "code",
   "execution_count": 21,
   "metadata": {},
   "outputs": [],
   "source": [
    "f = make_incrementor(42)"
   ]
  },
  {
   "cell_type": "code",
   "execution_count": 22,
   "metadata": {},
   "outputs": [
    {
     "data": {
      "text/plain": [
       "42"
      ]
     },
     "execution_count": 22,
     "metadata": {},
     "output_type": "execute_result"
    }
   ],
   "source": [
    "f(0)"
   ]
  },
  {
   "cell_type": "code",
   "execution_count": 23,
   "metadata": {},
   "outputs": [
    {
     "data": {
      "text/plain": [
       "43"
      ]
     },
     "execution_count": 23,
     "metadata": {},
     "output_type": "execute_result"
    }
   ],
   "source": [
    "f(1)"
   ]
  },
  {
   "cell_type": "markdown",
   "metadata": {},
   "source": [
    "El ejemplo anterior usa una expresión lambda para devolver una función. Otro uso es pasar una pequeña función como argumento:"
   ]
  },
  {
   "cell_type": "code",
   "execution_count": 24,
   "metadata": {},
   "outputs": [],
   "source": [
    "pairs = [(1, 'one'), (2, 'two'), (3, 'three'), (4, 'four')]"
   ]
  },
  {
   "cell_type": "code",
   "execution_count": 25,
   "metadata": {},
   "outputs": [],
   "source": [
    "pairs.sort(key=lambda pair: pair[1])"
   ]
  },
  {
   "cell_type": "code",
   "execution_count": 26,
   "metadata": {},
   "outputs": [
    {
     "data": {
      "text/plain": [
       "[(4, 'four'), (1, 'one'), (3, 'three'), (2, 'two')]"
      ]
     },
     "execution_count": 26,
     "metadata": {},
     "output_type": "execute_result"
    }
   ],
   "source": [
    "pairs"
   ]
  },
  {
   "cell_type": "markdown",
   "metadata": {},
   "source": [
    "#### 4.7.7. Strings de documentación\n",
    "\n",
    "Aquí hay algunas convenciones sobre el contenido y el formato de los strings de documentación.\n",
    "\n",
    "La primera línea siempre debe ser un resumen breve y conciso del propósito del objeto. Por brevedad, no debe indicar explícitamente el nombre o el tipo del objeto, ya que estos están disponibles por otros medios (excepto si el nombre es un verbo que describe la operación de una función). Esta línea debe comenzar con una letra mayúscula y terminar con un punto.\n",
    "\n",
    "Si hay más líneas en el string de documentación, la segunda línea debe estar en blanco, separando visualmente el resumen del resto de la descripción. Las siguientes líneas deben ser uno o más párrafos que describan las convenciones de llamada del objeto, sus efectos secundarios, etc.\n",
    "\n",
    "El analizador Python no elimina la sangría de los literales de strings de varias líneas en Python, por lo que las herramientas que procesan la documentación tienen que eliminar la sangría si lo desean. Esto se hace usando la siguiente convención. La primera línea no en blanco después de la primera línea del string determina la cantidad de sangría para todo el string de documentación. (No podemos usar la primera línea ya que generalmente es adyacente a las comillas de apertura del string, por lo que su sangría no es aparente en el string literal). El espacio en blanco \"equivalente\" a esta sangría se elimina del principio de todas las líneas del string . Las líneas con menos sangría no deberían aparecer, pero si aparecen, se deben eliminar todos los espacios en blanco iniciales. La equivalencia del espacio en blanco debe probarse después de la expansión de las pestañas (a 8 espacios, normalmente).\n",
    "\n",
    "Aquí hay un ejemplo de un docstring de varias líneas:"
   ]
  },
  {
   "cell_type": "code",
   "execution_count": 27,
   "metadata": {},
   "outputs": [],
   "source": [
    "def my_function():\n",
    "    \"\"\"Do nothing, but document it.\n",
    "    \n",
    "    No, really, it doesn't do anything.\n",
    "    \"\"\"\n",
    "    pass"
   ]
  },
  {
   "cell_type": "code",
   "execution_count": 28,
   "metadata": {},
   "outputs": [
    {
     "name": "stdout",
     "output_type": "stream",
     "text": [
      "Do nothing, but document it.\n",
      "    \n",
      "    No, really, it doesn't do anything.\n",
      "    \n"
     ]
    }
   ],
   "source": [
    "print(my_function.__doc__)"
   ]
  },
  {
   "cell_type": "markdown",
   "metadata": {},
   "source": [
    "#### 4.7.8. Function annotations\n",
    "\n",
    "Las anotaciones de funciones son información de metadatos completamente opcional sobre los tipos utilizados por las funciones definidas por el usuario (consulte PEP 3107 y PEP 484 para obtener más información).\n",
    "\n",
    "Las anotaciones se almacenan en el atributo __anotaciones__ de la función como un diccionario y no tienen efecto en ninguna otra parte de la función. Las anotaciones de parámetros están definidas por dos puntos después del nombre del parámetro, seguido de una expresión que evalúa el valor de la anotación. Las anotaciones de retorno se definen mediante un literal ->, seguido de una expresión, entre la lista de parámetros y los dos puntos que indican el final de la declaración def. El siguiente ejemplo tiene un argumento posicional, un argumento de palabra clave y el valor de retorno anotado:"
   ]
  },
  {
   "cell_type": "code",
   "execution_count": 29,
   "metadata": {},
   "outputs": [],
   "source": [
    "def f(ham: str, eggs: str = 'eggs') -> str:\n",
    "    print(\"Annotations:\", f.__annotations__)\n",
    "    print(\"Arguments:\", ham, eggs)\n",
    "    return ham + ' and ' + eggs"
   ]
  },
  {
   "cell_type": "code",
   "execution_count": 30,
   "metadata": {},
   "outputs": [
    {
     "name": "stdout",
     "output_type": "stream",
     "text": [
      "Annotations: {'ham': <class 'str'>, 'eggs': <class 'str'>, 'return': <class 'str'>}\n",
      "Arguments: spam eggs\n"
     ]
    },
    {
     "data": {
      "text/plain": [
       "'spam and eggs'"
      ]
     },
     "execution_count": 30,
     "metadata": {},
     "output_type": "execute_result"
    }
   ],
   "source": [
    "f('spam')"
   ]
  },
  {
   "cell_type": "markdown",
   "metadata": {},
   "source": [
    "### 4.8. Intermezzo: estilo de codificación\n",
    "\n",
    "Ahora que está a punto de escribir piezas de Python más largas y complejas, es un buen momento para hablar sobre el estilo de codificación. La mayoría de los idiomas se pueden escribir (o más concisos, formateados) en diferentes estilos; algunos son más legibles que otros. Siempre es una buena idea facilitar que otros lean su código, y adoptar un buen estilo de codificación ayuda enormemente para eso.\n",
    "\n",
    "Para Python, PEP 8 se ha convertido en la guía de estilo a la que se adhieren la mayoría de los proyectos; promueve un estilo de codificación muy legible y agradable a la vista. Todo desarrollador de Python debería leerlo en algún momento; Aquí están los puntos más importantes extraídos para usted:\n",
    "\n",
    "   - Use sangría de 4 espacios, y sin pestañas.\n",
    "   - 4 espacios son un buen compromiso entre una pequeña sangría (permite una mayor profundidad de anidación) y una gran sangría (más fácil de leer). Las pestañas introducen confusión y es mejor dejarlas de lado.\n",
    "   - Ajuste las líneas para que no superen los 79 caracteres.\n",
    "   - Esto ayuda a los usuarios con pantallas pequeñas y permite tener varios archivos de código uno al lado del otro en pantallas más grandes.\n",
    "   - Use líneas en blanco para separar funciones y clases, y bloques de código más grandes dentro de las funciones.\n",
    "   - Cuando sea posible, coloque los comentarios en una línea propia\n",
    "   - Usa docstrings.\n",
    "   - Use espacios alrededor de los operadores y después de las comas, pero no directamente dentro de las construcciones de corchetes: a = f (1, 2) + g (3, 4).\n",
    "   - Nombre sus clases y funciones consistentemente; la convención es usar UpperCamelCase para clases y minúsculas_con_colecciones para funciones y métodos. Siempre use self como nombre para el primer argumento del método (vea Una primera mirada a las clases para más información sobre clases y métodos).\n",
    "   - No utilice codificaciones sofisticadas si su código está destinado a ser utilizado en entornos internacionales. El valor predeterminado de Python, UTF-8, o incluso ASCII simple, funciona mejor en cualquier caso.\n",
    "   - Del mismo modo, no use caracteres que no sean ASCII en los identificadores si existe la más mínima posibilidad de que las personas que hablan un idioma diferente lean o mantengan el código."
   ]
  },
  {
   "cell_type": "markdown",
   "metadata": {},
   "source": [
    "## 5. Estructuras de Datos\n",
    "\n",
    "Este capítulo describe algunas cosas que ya aprendió con más detalle y también agrega algunas cosas nuevas.\n",
    "\n",
    "### 5.1. Más sobre listas\n",
    "\n",
    "El tipo de datos de la lista tiene algunos métodos más. Estos son todos los métodos de los objetos de lista:\n",
    "\n",
    "list.**append**(x)\n",
    "Agregue un elemento al final de la lista. Equivalente a *a[len(a):] = [x]*.\n",
    "\n",
    "list.**extend**(iterable)\n",
    "Extienda la lista agregando todos los elementos del iterable. Equivalente a  *a[len(a):] = iterable*.\n",
    "\n",
    "list.**insert**(i, x)\n",
    "Insertar un elemento en una posición determinada. El primer argumento es el índice del elemento antes del cual insertar, por lo que *a.insert(0, x)* se inserta al principio de la lista, y *a.insert(len(a), x)* es equivalente a *a.append(X)*.\n",
    "\n",
    "list.**remove**(x)\n",
    "Elimine el primer elemento de la lista cuyo valor es igual a x. Levanta un *ValueError* si no existe tal elemento.\n",
    "\n",
    "list.**pop**([i])\n",
    "Elimine el elemento en la posición dada en la lista y devuélvalo. Si no se especifica ningún índice, *a.pop()* elimina y devuelve el último elemento de la lista. (Los corchetes alrededor de la i en la firma del método indican que el parámetro es opcional, no que debe escribir corchetes en esa posición. Verá esta notación con frecuencia en la Referencia de la biblioteca de Python).\n",
    "\n",
    "list.**clear**()\n",
    "Eliminar todos los elementos de la lista. Equivalente a del *a[:]*.\n",
    "\n",
    "list.**index**(x[, start[, end]])\n",
    "Devuelve el índice basado en cero en la lista del primer elemento cuyo valor es igual a x. Provoca un *ValueError* si no existe dicho elemento.\n",
    "\n",
    "Los argumentos opcionales start y end se interpretan como en la notación de corte y se usan para limitar la búsqueda a una subsecuencia particular de la lista. El índice devuelto se calcula en relación con el comienzo de la secuencia completa en lugar del argumento de start.\n",
    "\n",
    "list.**count**(x)\n",
    "Devuelve el número de veces que x aparece en la lista.\n",
    "\n",
    "list.**sort**(key = None, reverse = False)\n",
    "Ordene los elementos de la lista en su lugar (los argumentos se pueden usar para la personalización de la ordenación, consulte *sorted()* para su explicación).\n",
    "\n",
    "list.**reverse**()\n",
    "Invierta los elementos de la lista en su lugar.\n",
    "\n",
    "list.**copy**()\n",
    "Devuelve una copia superficial de la lista. Equivalente a *a[:]*.\n",
    "\n",
    "Un ejemplo que usa la mayoría de los métodos de lista:"
   ]
  },
  {
   "cell_type": "code",
   "execution_count": 31,
   "metadata": {},
   "outputs": [],
   "source": [
    "fruits = ['orange', 'apple', 'pear', 'banana', 'kiwi', 'apple', 'banana']"
   ]
  },
  {
   "cell_type": "code",
   "execution_count": 32,
   "metadata": {},
   "outputs": [
    {
     "data": {
      "text/plain": [
       "2"
      ]
     },
     "execution_count": 32,
     "metadata": {},
     "output_type": "execute_result"
    }
   ],
   "source": [
    "fruits.count('apple')"
   ]
  },
  {
   "cell_type": "code",
   "execution_count": 33,
   "metadata": {},
   "outputs": [
    {
     "data": {
      "text/plain": [
       "0"
      ]
     },
     "execution_count": 33,
     "metadata": {},
     "output_type": "execute_result"
    }
   ],
   "source": [
    "fruits.count('tangerine')"
   ]
  },
  {
   "cell_type": "code",
   "execution_count": 34,
   "metadata": {},
   "outputs": [
    {
     "data": {
      "text/plain": [
       "3"
      ]
     },
     "execution_count": 34,
     "metadata": {},
     "output_type": "execute_result"
    }
   ],
   "source": [
    "fruits.index('banana')"
   ]
  },
  {
   "cell_type": "code",
   "execution_count": 35,
   "metadata": {},
   "outputs": [
    {
     "data": {
      "text/plain": [
       "6"
      ]
     },
     "execution_count": 35,
     "metadata": {},
     "output_type": "execute_result"
    }
   ],
   "source": [
    "fruits.index('banana', 4)  # Find next banana starting a position 4"
   ]
  },
  {
   "cell_type": "code",
   "execution_count": 36,
   "metadata": {},
   "outputs": [],
   "source": [
    "fruits.reverse()"
   ]
  },
  {
   "cell_type": "code",
   "execution_count": 37,
   "metadata": {},
   "outputs": [
    {
     "data": {
      "text/plain": [
       "['banana', 'apple', 'kiwi', 'banana', 'pear', 'apple', 'orange']"
      ]
     },
     "execution_count": 37,
     "metadata": {},
     "output_type": "execute_result"
    }
   ],
   "source": [
    "fruits"
   ]
  },
  {
   "cell_type": "code",
   "execution_count": 38,
   "metadata": {},
   "outputs": [],
   "source": [
    "fruits.append('grape')"
   ]
  },
  {
   "cell_type": "code",
   "execution_count": 39,
   "metadata": {},
   "outputs": [
    {
     "data": {
      "text/plain": [
       "['banana', 'apple', 'kiwi', 'banana', 'pear', 'apple', 'orange', 'grape']"
      ]
     },
     "execution_count": 39,
     "metadata": {},
     "output_type": "execute_result"
    }
   ],
   "source": [
    "fruits"
   ]
  },
  {
   "cell_type": "code",
   "execution_count": 40,
   "metadata": {},
   "outputs": [],
   "source": [
    "fruits.sort()"
   ]
  },
  {
   "cell_type": "code",
   "execution_count": 41,
   "metadata": {},
   "outputs": [
    {
     "data": {
      "text/plain": [
       "['apple', 'apple', 'banana', 'banana', 'grape', 'kiwi', 'orange', 'pear']"
      ]
     },
     "execution_count": 41,
     "metadata": {},
     "output_type": "execute_result"
    }
   ],
   "source": [
    "fruits"
   ]
  },
  {
   "cell_type": "code",
   "execution_count": 42,
   "metadata": {},
   "outputs": [
    {
     "data": {
      "text/plain": [
       "'pear'"
      ]
     },
     "execution_count": 42,
     "metadata": {},
     "output_type": "execute_result"
    }
   ],
   "source": [
    "fruits.pop()"
   ]
  },
  {
   "cell_type": "markdown",
   "metadata": {},
   "source": [
    "Es posible que haya notado que los métodos como *insert*, *remove* u *sort* que solo modifican la lista no tienen ningún valor de retorno impreso; devuelven el valor predeterminado *None*. Este es un principio de diseño para todas las estructuras de datos mutables en Python.\n",
    "\n",
    "Otra cosa que puede notar es que no todos los datos se pueden ordenar o comparar. Por ejemplo, *[None, 'hello', 10]* no se ordena porque los enteros no se pueden comparar con las cadenas y Ninguno no se puede comparar con otros tipos. Además, hay algunos tipos que no tienen una relación de pedido definida. Por ejemplo, *3 + 4j <5 + 7j* no es una comparación válida.\n",
    "\n",
    "#### 5.1.1 Usar listas como pilas\n",
    "\n",
    "Los métodos de lista hacen que sea muy fácil usar una lista como una pila, donde el último elemento agregado es el primer elemento recuperado (\"último en entrar, primero en salir\"). Para agregar un elemento a la parte superior de la pila, use append(). Para recuperar un elemento desde la parte superior de la pila, use pop() sin un índice explícito. Por ejemplo:"
   ]
  },
  {
   "cell_type": "code",
   "execution_count": 43,
   "metadata": {},
   "outputs": [],
   "source": [
    "stack = [3, 4, 5]"
   ]
  },
  {
   "cell_type": "code",
   "execution_count": 44,
   "metadata": {},
   "outputs": [],
   "source": [
    "stack.append(6)"
   ]
  },
  {
   "cell_type": "code",
   "execution_count": 45,
   "metadata": {},
   "outputs": [],
   "source": [
    "stack.append(7)"
   ]
  },
  {
   "cell_type": "code",
   "execution_count": 46,
   "metadata": {},
   "outputs": [
    {
     "data": {
      "text/plain": [
       "[3, 4, 5, 6, 7]"
      ]
     },
     "execution_count": 46,
     "metadata": {},
     "output_type": "execute_result"
    }
   ],
   "source": [
    "stack"
   ]
  },
  {
   "cell_type": "code",
   "execution_count": 47,
   "metadata": {},
   "outputs": [
    {
     "data": {
      "text/plain": [
       "7"
      ]
     },
     "execution_count": 47,
     "metadata": {},
     "output_type": "execute_result"
    }
   ],
   "source": [
    "stack.pop()"
   ]
  },
  {
   "cell_type": "code",
   "execution_count": 48,
   "metadata": {},
   "outputs": [
    {
     "data": {
      "text/plain": [
       "[3, 4, 5, 6]"
      ]
     },
     "execution_count": 48,
     "metadata": {},
     "output_type": "execute_result"
    }
   ],
   "source": [
    "stack"
   ]
  },
  {
   "cell_type": "code",
   "execution_count": 49,
   "metadata": {},
   "outputs": [
    {
     "data": {
      "text/plain": [
       "6"
      ]
     },
     "execution_count": 49,
     "metadata": {},
     "output_type": "execute_result"
    }
   ],
   "source": [
    "stack.pop()"
   ]
  },
  {
   "cell_type": "code",
   "execution_count": 50,
   "metadata": {},
   "outputs": [
    {
     "data": {
      "text/plain": [
       "5"
      ]
     },
     "execution_count": 50,
     "metadata": {},
     "output_type": "execute_result"
    }
   ],
   "source": [
    "stack.pop()"
   ]
  },
  {
   "cell_type": "code",
   "execution_count": 51,
   "metadata": {},
   "outputs": [
    {
     "data": {
      "text/plain": [
       "[3, 4]"
      ]
     },
     "execution_count": 51,
     "metadata": {},
     "output_type": "execute_result"
    }
   ],
   "source": [
    "stack"
   ]
  },
  {
   "cell_type": "markdown",
   "metadata": {},
   "source": [
    "#### 5.1.2. Usar listas como Queues\n",
    "\n",
    "También es posible usar una lista como una queue, donde el primer elemento agregado es el primer elemento recuperado (\"primero en entrar, primero en salir\"); sin embargo, las listas no son eficientes para este propósito. Si bien los anexos y los estallidos desde el final de la lista son rápidos, hacer inserciones o estallidos desde el principio de una lista es lento (porque todos los demás elementos deben ser desplazados por uno).\n",
    "\n",
    "Para implementar un queue, use *collections.deque* que fue diseñado para tener adiciones rápidas y pops de ambos extremos. Por ejemplo:"
   ]
  },
  {
   "cell_type": "code",
   "execution_count": 52,
   "metadata": {},
   "outputs": [],
   "source": [
    "from collections import deque"
   ]
  },
  {
   "cell_type": "code",
   "execution_count": 53,
   "metadata": {},
   "outputs": [],
   "source": [
    "queue = deque([\"Eric\", \"John\", \"Michael\"])"
   ]
  },
  {
   "cell_type": "code",
   "execution_count": 54,
   "metadata": {},
   "outputs": [],
   "source": [
    "queue.append(\"Terry\")           # Terry arrives"
   ]
  },
  {
   "cell_type": "code",
   "execution_count": 55,
   "metadata": {},
   "outputs": [],
   "source": [
    "queue.append(\"Graham\")          # Graham arrives"
   ]
  },
  {
   "cell_type": "code",
   "execution_count": 56,
   "metadata": {},
   "outputs": [
    {
     "data": {
      "text/plain": [
       "'Eric'"
      ]
     },
     "execution_count": 56,
     "metadata": {},
     "output_type": "execute_result"
    }
   ],
   "source": [
    "queue.popleft()                 # The first to arrive now leaves"
   ]
  },
  {
   "cell_type": "code",
   "execution_count": 57,
   "metadata": {},
   "outputs": [
    {
     "data": {
      "text/plain": [
       "'John'"
      ]
     },
     "execution_count": 57,
     "metadata": {},
     "output_type": "execute_result"
    }
   ],
   "source": [
    "queue.popleft()                 # The second to arrive now leaves"
   ]
  },
  {
   "cell_type": "code",
   "execution_count": 58,
   "metadata": {},
   "outputs": [
    {
     "data": {
      "text/plain": [
       "deque(['Michael', 'Terry', 'Graham'])"
      ]
     },
     "execution_count": 58,
     "metadata": {},
     "output_type": "execute_result"
    }
   ],
   "source": [
    "queue"
   ]
  },
  {
   "cell_type": "markdown",
   "metadata": {},
   "source": [
    "#### 5.1.3. Listas de comprensiones\n",
    "\n",
    "Las comprensiones de listas proporcionan una forma concisa de crear listas. Las aplicaciones comunes son hacer nuevas listas donde cada elemento es el resultado de algunas operaciones aplicadas a cada miembro de otra secuencia o iterable, o crear una subsecuencia de esos elementos que satisfacen una determinada condición.\n",
    "\n",
    "Por ejemplo, supongamos que queremos crear una lista de cuadrados, como:"
   ]
  },
  {
   "cell_type": "code",
   "execution_count": 59,
   "metadata": {},
   "outputs": [],
   "source": [
    "squares = []"
   ]
  },
  {
   "cell_type": "code",
   "execution_count": 61,
   "metadata": {},
   "outputs": [],
   "source": [
    "for x in range(10):\n",
    "    squares.append(x**2)"
   ]
  },
  {
   "cell_type": "code",
   "execution_count": 62,
   "metadata": {},
   "outputs": [
    {
     "data": {
      "text/plain": [
       "[0, 1, 4, 9, 16, 25, 36, 49, 64, 81]"
      ]
     },
     "execution_count": 62,
     "metadata": {},
     "output_type": "execute_result"
    }
   ],
   "source": [
    "squares"
   ]
  },
  {
   "cell_type": "markdown",
   "metadata": {},
   "source": [
    "Tenga en cuenta que esto crea (o sobrescribe) una variable llamada x que todavía existe después de que se completa el ciclo. Podemos calcular la lista de cuadrados sin efectos secundarios usando:"
   ]
  },
  {
   "cell_type": "code",
   "execution_count": 63,
   "metadata": {},
   "outputs": [],
   "source": [
    "squares = list(map(lambda x: x**2, range(10)))"
   ]
  },
  {
   "cell_type": "markdown",
   "metadata": {},
   "source": [
    "o equivalente:"
   ]
  },
  {
   "cell_type": "code",
   "execution_count": 64,
   "metadata": {},
   "outputs": [],
   "source": [
    "squares = [x**2 for x in range(10)]"
   ]
  },
  {
   "cell_type": "markdown",
   "metadata": {},
   "source": [
    "que es más conciso y legible.\n",
    "\n",
    "Una comprensión de lista consiste en corchetes que contienen una expresión seguida de una cláusula for, luego cero o más cláusulas for o if. El resultado será una nueva lista resultante de la evaluación de la expresión en el contexto de las cláusulas for y if que le siguen. Por ejemplo, esta listcomp combina los elementos de dos listas si no son iguales:"
   ]
  },
  {
   "cell_type": "code",
   "execution_count": 65,
   "metadata": {},
   "outputs": [
    {
     "data": {
      "text/plain": [
       "[(1, 3), (1, 4), (2, 3), (2, 1), (2, 4), (3, 1), (3, 4)]"
      ]
     },
     "execution_count": 65,
     "metadata": {},
     "output_type": "execute_result"
    }
   ],
   "source": [
    "[(x, y) for x in [1,2,3] for y in [3,1,4] if x != y]"
   ]
  },
  {
   "cell_type": "markdown",
   "metadata": {},
   "source": [
    "y es equivalente a:"
   ]
  },
  {
   "cell_type": "code",
   "execution_count": 66,
   "metadata": {},
   "outputs": [],
   "source": [
    "combs = []"
   ]
  },
  {
   "cell_type": "code",
   "execution_count": 67,
   "metadata": {},
   "outputs": [],
   "source": [
    "for x in [1,2,3]:\n",
    "    for y in [3,1,4]:\n",
    "        if x != y:\n",
    "            combs.append((x, y))"
   ]
  },
  {
   "cell_type": "code",
   "execution_count": 68,
   "metadata": {},
   "outputs": [
    {
     "data": {
      "text/plain": [
       "[(1, 3), (1, 4), (2, 3), (2, 1), (2, 4), (3, 1), (3, 4)]"
      ]
     },
     "execution_count": 68,
     "metadata": {},
     "output_type": "execute_result"
    }
   ],
   "source": [
    "combs"
   ]
  },
  {
   "cell_type": "markdown",
   "metadata": {},
   "source": [
    "Observe cómo el orden de las declaraciones for y if es el mismo en ambos fragmentos.\n",
    "\n",
    "Si la expresión es una tupla (por ejemplo, (x, y) en el ejemplo anterior), debe estar entre paréntesis."
   ]
  },
  {
   "cell_type": "code",
   "execution_count": 69,
   "metadata": {},
   "outputs": [],
   "source": [
    "vec = [-4, -2, 0, 2, 4]"
   ]
  },
  {
   "cell_type": "code",
   "execution_count": 70,
   "metadata": {},
   "outputs": [
    {
     "data": {
      "text/plain": [
       "[-8, -4, 0, 4, 8]"
      ]
     },
     "execution_count": 70,
     "metadata": {},
     "output_type": "execute_result"
    }
   ],
   "source": [
    "# create a new list with the values doubled\n",
    "[x*2 for x in vec]"
   ]
  },
  {
   "cell_type": "code",
   "execution_count": 71,
   "metadata": {},
   "outputs": [
    {
     "data": {
      "text/plain": [
       "[0, 2, 4]"
      ]
     },
     "execution_count": 71,
     "metadata": {},
     "output_type": "execute_result"
    }
   ],
   "source": [
    "# filter the list to exclude negative numbers\n",
    "[x for x in vec if x >= 0]"
   ]
  },
  {
   "cell_type": "code",
   "execution_count": 72,
   "metadata": {},
   "outputs": [
    {
     "data": {
      "text/plain": [
       "[4, 2, 0, 2, 4]"
      ]
     },
     "execution_count": 72,
     "metadata": {},
     "output_type": "execute_result"
    }
   ],
   "source": [
    "# apply a function to all the elements\n",
    "[abs(x) for x in vec]"
   ]
  },
  {
   "cell_type": "code",
   "execution_count": 73,
   "metadata": {},
   "outputs": [],
   "source": [
    "# call a method on each element\n",
    "freshfruit = ['  banana', '  loganberry ', 'passion fruit  ']"
   ]
  },
  {
   "cell_type": "code",
   "execution_count": 74,
   "metadata": {},
   "outputs": [
    {
     "data": {
      "text/plain": [
       "['banana', 'loganberry', 'passion fruit']"
      ]
     },
     "execution_count": 74,
     "metadata": {},
     "output_type": "execute_result"
    }
   ],
   "source": [
    "[weapon.strip() for weapon in freshfruit]"
   ]
  },
  {
   "cell_type": "code",
   "execution_count": 75,
   "metadata": {},
   "outputs": [
    {
     "data": {
      "text/plain": [
       "[(0, 0), (1, 1), (2, 4), (3, 9), (4, 16), (5, 25)]"
      ]
     },
     "execution_count": 75,
     "metadata": {},
     "output_type": "execute_result"
    }
   ],
   "source": [
    "# create a list of 2-tuples like (number, square)\n",
    "[(x, x**2) for x in range(6)]"
   ]
  },
  {
   "cell_type": "code",
   "execution_count": 76,
   "metadata": {},
   "outputs": [
    {
     "ename": "SyntaxError",
     "evalue": "invalid syntax (<ipython-input-76-702d12ece8a4>, line 2)",
     "output_type": "error",
     "traceback": [
      "\u001b[1;36m  File \u001b[1;32m\"<ipython-input-76-702d12ece8a4>\"\u001b[1;36m, line \u001b[1;32m2\u001b[0m\n\u001b[1;33m    [x, x**2 for x in range(6)]\u001b[0m\n\u001b[1;37m               ^\u001b[0m\n\u001b[1;31mSyntaxError\u001b[0m\u001b[1;31m:\u001b[0m invalid syntax\n"
     ]
    }
   ],
   "source": [
    "# the tuple must be parenthesized, otherwise an error is raised\n",
    "[x, x**2 for x in range(6)]"
   ]
  },
  {
   "cell_type": "code",
   "execution_count": 77,
   "metadata": {},
   "outputs": [],
   "source": [
    "# flatten a list using a listcomp with two 'for'\n",
    "vec = [[1,2,3], [4,5,6], [7,8,9]]"
   ]
  },
  {
   "cell_type": "code",
   "execution_count": 78,
   "metadata": {},
   "outputs": [
    {
     "data": {
      "text/plain": [
       "[1, 2, 3, 4, 5, 6, 7, 8, 9]"
      ]
     },
     "execution_count": 78,
     "metadata": {},
     "output_type": "execute_result"
    }
   ],
   "source": [
    "[num for elem in vec for num in elem]"
   ]
  },
  {
   "cell_type": "markdown",
   "metadata": {},
   "source": [
    "Las comprensiones de listas pueden contener expresiones complejas y funciones anidadas:"
   ]
  },
  {
   "cell_type": "code",
   "execution_count": 79,
   "metadata": {},
   "outputs": [],
   "source": [
    "from math import pi"
   ]
  },
  {
   "cell_type": "code",
   "execution_count": 80,
   "metadata": {},
   "outputs": [
    {
     "data": {
      "text/plain": [
       "['3.1', '3.14', '3.142', '3.1416', '3.14159']"
      ]
     },
     "execution_count": 80,
     "metadata": {},
     "output_type": "execute_result"
    }
   ],
   "source": [
    "[str(round(pi, i)) for i in range(1, 6)]"
   ]
  },
  {
   "cell_type": "markdown",
   "metadata": {},
   "source": [
    "#### 5.1.4. Listas de Comprensiones anidadas\n",
    "\n",
    "La expresión inicial en una comprensión de lista puede ser cualquier expresión arbitraria, incluida otra comprensión de lista.\n",
    "\n",
    "Considere el siguiente ejemplo de una matriz 3x4 implementada como una lista de 3 listas de longitud 4:"
   ]
  },
  {
   "cell_type": "code",
   "execution_count": 81,
   "metadata": {},
   "outputs": [],
   "source": [
    "matrix = [\n",
    "    [1, 2, 3, 4],\n",
    "    [5, 6, 7, 8],\n",
    "    [9, 10, 11, 12],\n",
    "]"
   ]
  },
  {
   "cell_type": "markdown",
   "metadata": {},
   "source": [
    "La siguiente comprensión de la lista transpondrá filas y columnas:"
   ]
  },
  {
   "cell_type": "code",
   "execution_count": 82,
   "metadata": {},
   "outputs": [
    {
     "data": {
      "text/plain": [
       "[[1, 5, 9], [2, 6, 10], [3, 7, 11], [4, 8, 12]]"
      ]
     },
     "execution_count": 82,
     "metadata": {},
     "output_type": "execute_result"
    }
   ],
   "source": [
    "[[row[i] for row in matrix] for i in range(4)]"
   ]
  },
  {
   "cell_type": "markdown",
   "metadata": {},
   "source": [
    "Como vimos en la sección anterior, el listcomp anidado se evalúa en el contexto de la siguiente, por lo que este ejemplo es equivalente a:"
   ]
  },
  {
   "cell_type": "code",
   "execution_count": 83,
   "metadata": {},
   "outputs": [],
   "source": [
    "transposed = []"
   ]
  },
  {
   "cell_type": "code",
   "execution_count": 84,
   "metadata": {},
   "outputs": [],
   "source": [
    "for i in range(4):\n",
    "    transposed.append([row[i] for row in matrix])"
   ]
  },
  {
   "cell_type": "code",
   "execution_count": 85,
   "metadata": {},
   "outputs": [
    {
     "data": {
      "text/plain": [
       "[[1, 5, 9], [2, 6, 10], [3, 7, 11], [4, 8, 12]]"
      ]
     },
     "execution_count": 85,
     "metadata": {},
     "output_type": "execute_result"
    }
   ],
   "source": [
    "transposed"
   ]
  },
  {
   "cell_type": "markdown",
   "metadata": {},
   "source": [
    "que, a su vez, es lo mismo que:"
   ]
  },
  {
   "cell_type": "code",
   "execution_count": 86,
   "metadata": {},
   "outputs": [],
   "source": [
    "transposed = []"
   ]
  },
  {
   "cell_type": "code",
   "execution_count": 88,
   "metadata": {},
   "outputs": [],
   "source": [
    "for i in range(4):\n",
    "    # the following 3 lines implement the nested listcomp\n",
    "    transposed_row = []\n",
    "    for row in matrix:\n",
    "        transposed_row.append(row[i])\n",
    "    transposed.append(transposed_row)"
   ]
  },
  {
   "cell_type": "code",
   "execution_count": 89,
   "metadata": {},
   "outputs": [
    {
     "data": {
      "text/plain": [
       "[[1, 5, 9], [2, 6, 10], [3, 7, 11], [4, 8, 12]]"
      ]
     },
     "execution_count": 89,
     "metadata": {},
     "output_type": "execute_result"
    }
   ],
   "source": [
    "transposed"
   ]
  },
  {
   "cell_type": "markdown",
   "metadata": {},
   "source": [
    "En el mundo real, debe preferir las funciones integradas a las declaraciones de flujo complejas. La función zip () haría un gran trabajo para este caso de uso:"
   ]
  },
  {
   "cell_type": "code",
   "execution_count": 90,
   "metadata": {},
   "outputs": [
    {
     "data": {
      "text/plain": [
       "[(1, 5, 9), (2, 6, 10), (3, 7, 11), (4, 8, 12)]"
      ]
     },
     "execution_count": 90,
     "metadata": {},
     "output_type": "execute_result"
    }
   ],
   "source": [
    "list(zip(*matrix))"
   ]
  },
  {
   "cell_type": "markdown",
   "metadata": {},
   "source": [
    "Consulte Desempaquetar listas de argumentos (Cap. 4) para obtener detalles sobre el asterisco en esta línea.\n",
    "\n",
    "### 5.2. La declaración del\n",
    "\n",
    "Hay una manera de eliminar un elemento de una lista dado su índice en lugar de su valor: la instrucción *del*. Esto difiere del método pop() que devuelve un valor. La instrucción del también se puede usar para eliminar segmentos de una lista o borrar toda la lista (lo que hicimos anteriormente mediante la asignación de una lista vacía al segmento). Por ejemplo:"
   ]
  },
  {
   "cell_type": "code",
   "execution_count": 91,
   "metadata": {},
   "outputs": [],
   "source": [
    "a = [-1, 1, 66.25, 333, 333, 1234.5]"
   ]
  },
  {
   "cell_type": "code",
   "execution_count": 92,
   "metadata": {},
   "outputs": [],
   "source": [
    "del a[0]"
   ]
  },
  {
   "cell_type": "code",
   "execution_count": 93,
   "metadata": {},
   "outputs": [
    {
     "data": {
      "text/plain": [
       "[1, 66.25, 333, 333, 1234.5]"
      ]
     },
     "execution_count": 93,
     "metadata": {},
     "output_type": "execute_result"
    }
   ],
   "source": [
    "a"
   ]
  },
  {
   "cell_type": "code",
   "execution_count": 94,
   "metadata": {},
   "outputs": [],
   "source": [
    "del a[2:4]"
   ]
  },
  {
   "cell_type": "code",
   "execution_count": 95,
   "metadata": {},
   "outputs": [
    {
     "data": {
      "text/plain": [
       "[1, 66.25, 1234.5]"
      ]
     },
     "execution_count": 95,
     "metadata": {},
     "output_type": "execute_result"
    }
   ],
   "source": [
    "a"
   ]
  },
  {
   "cell_type": "code",
   "execution_count": 96,
   "metadata": {},
   "outputs": [],
   "source": [
    "del a[:]"
   ]
  },
  {
   "cell_type": "code",
   "execution_count": 97,
   "metadata": {},
   "outputs": [
    {
     "data": {
      "text/plain": [
       "[]"
      ]
     },
     "execution_count": 97,
     "metadata": {},
     "output_type": "execute_result"
    }
   ],
   "source": [
    "a"
   ]
  },
  {
   "cell_type": "markdown",
   "metadata": {},
   "source": [
    "*del* también se puede usar para eliminar variables completas:"
   ]
  },
  {
   "cell_type": "code",
   "execution_count": 98,
   "metadata": {},
   "outputs": [],
   "source": [
    "del a"
   ]
  },
  {
   "cell_type": "markdown",
   "metadata": {},
   "source": [
    "Hacer referencia al nombre *a* aquí en adelante es un error (al menos hasta que se le asigne otro valor). Encontraremos otros usos para *del* más adelante.\n",
    "\n",
    "### 5.3. Tuplas y Secuencias\n",
    "\n",
    "Vimos que las listas y las cadenas tienen muchas propiedades comunes, como las operaciones de indexación y corte. Son dos ejemplos de tipos de datos de secuencia (consulte Tipos de secuencia: lista, tupla, rango(https://docs.python.org/3/library/stdtypes.html#typesseq)). Dado que Python es un lenguaje en evolución, se pueden agregar otros tipos de datos de secuencia. También hay otro tipo de datos de secuencia estándar: la tupla.\n",
    "\n",
    "Una tupla consta de una serie de valores separados por comas, por ejemplo:"
   ]
  },
  {
   "cell_type": "code",
   "execution_count": 99,
   "metadata": {},
   "outputs": [],
   "source": [
    "t = 12345, 54321, 'hello!'"
   ]
  },
  {
   "cell_type": "code",
   "execution_count": 100,
   "metadata": {},
   "outputs": [
    {
     "data": {
      "text/plain": [
       "12345"
      ]
     },
     "execution_count": 100,
     "metadata": {},
     "output_type": "execute_result"
    }
   ],
   "source": [
    "t[0]"
   ]
  },
  {
   "cell_type": "code",
   "execution_count": 101,
   "metadata": {},
   "outputs": [
    {
     "data": {
      "text/plain": [
       "(12345, 54321, 'hello!')"
      ]
     },
     "execution_count": 101,
     "metadata": {},
     "output_type": "execute_result"
    }
   ],
   "source": [
    "t"
   ]
  },
  {
   "cell_type": "code",
   "execution_count": 102,
   "metadata": {},
   "outputs": [],
   "source": [
    "# Tuples may be nested:\n",
    "u = t, (1, 2, 3, 4, 5)"
   ]
  },
  {
   "cell_type": "code",
   "execution_count": 103,
   "metadata": {},
   "outputs": [
    {
     "data": {
      "text/plain": [
       "((12345, 54321, 'hello!'), (1, 2, 3, 4, 5))"
      ]
     },
     "execution_count": 103,
     "metadata": {},
     "output_type": "execute_result"
    }
   ],
   "source": [
    "u"
   ]
  },
  {
   "cell_type": "code",
   "execution_count": 104,
   "metadata": {},
   "outputs": [
    {
     "ename": "TypeError",
     "evalue": "'tuple' object does not support item assignment",
     "output_type": "error",
     "traceback": [
      "\u001b[1;31m---------------------------------------------------------------------------\u001b[0m",
      "\u001b[1;31mTypeError\u001b[0m                                 Traceback (most recent call last)",
      "\u001b[1;32m<ipython-input-104-9e19cce22619>\u001b[0m in \u001b[0;36m<module>\u001b[1;34m\u001b[0m\n\u001b[0;32m      1\u001b[0m \u001b[1;31m# Tuples are immutable:\u001b[0m\u001b[1;33m\u001b[0m\u001b[1;33m\u001b[0m\u001b[1;33m\u001b[0m\u001b[0m\n\u001b[1;32m----> 2\u001b[1;33m \u001b[0mt\u001b[0m\u001b[1;33m[\u001b[0m\u001b[1;36m0\u001b[0m\u001b[1;33m]\u001b[0m \u001b[1;33m=\u001b[0m \u001b[1;36m88888\u001b[0m\u001b[1;33m\u001b[0m\u001b[1;33m\u001b[0m\u001b[0m\n\u001b[0m",
      "\u001b[1;31mTypeError\u001b[0m: 'tuple' object does not support item assignment"
     ]
    }
   ],
   "source": [
    "# Tuples are immutable:\n",
    "t[0] = 88888"
   ]
  },
  {
   "cell_type": "code",
   "execution_count": 105,
   "metadata": {},
   "outputs": [],
   "source": [
    "# but they can contain mutable objects:\n",
    "v = ([1, 2, 3], [3, 2, 1])"
   ]
  },
  {
   "cell_type": "code",
   "execution_count": 106,
   "metadata": {},
   "outputs": [
    {
     "data": {
      "text/plain": [
       "([1, 2, 3], [3, 2, 1])"
      ]
     },
     "execution_count": 106,
     "metadata": {},
     "output_type": "execute_result"
    }
   ],
   "source": [
    "v"
   ]
  },
  {
   "cell_type": "markdown",
   "metadata": {},
   "source": [
    "Como puede ver, en la salida las tuplas siempre están encerradas entre paréntesis, de modo que las tuplas anidadas se interpretan correctamente; se pueden ingresar con o sin paréntesis, aunque a menudo los paréntesis son necesarios de todos modos (si la tupla es parte de una expresión más grande). No es posible asignar a los elementos individuales de una tupla, sin embargo, es posible crear tuplas que contienen objetos mutables, como listas.\n",
    "\n",
    "Aunque las tuplas pueden parecer similares a las listas, a menudo se usan en diferentes situaciones y para diferentes propósitos. Las tuplas son inmutables y, por lo general, contienen una secuencia heterogénea de elementos a los que se accede desempacando (ver más adelante en esta sección) o indexando (o incluso por atributo en el caso de las namedtuples). Las listas son mutables, y sus elementos son generalmente homogéneos y se accede iterando sobre la lista.\n",
    "\n",
    "Un problema especial es la construcción de tuplas que contienen 0 o 1 elementos: la sintaxis tiene algunas peculiaridades adicionales para acomodarlos. Las tuplas vacías se construyen con un par de paréntesis vacíos; una tupla con un elemento se construye siguiendo un valor con una coma (no es suficiente encerrar un solo valor entre paréntesis). Feo, pero efectivo. Por ejemplo:"
   ]
  },
  {
   "cell_type": "code",
   "execution_count": 107,
   "metadata": {},
   "outputs": [],
   "source": [
    "empty = ()"
   ]
  },
  {
   "cell_type": "code",
   "execution_count": 108,
   "metadata": {},
   "outputs": [],
   "source": [
    "singleton = 'hello',    # <-- note trailing comma"
   ]
  },
  {
   "cell_type": "code",
   "execution_count": 109,
   "metadata": {},
   "outputs": [
    {
     "data": {
      "text/plain": [
       "0"
      ]
     },
     "execution_count": 109,
     "metadata": {},
     "output_type": "execute_result"
    }
   ],
   "source": [
    "len(empty)"
   ]
  },
  {
   "cell_type": "code",
   "execution_count": 110,
   "metadata": {},
   "outputs": [
    {
     "data": {
      "text/plain": [
       "1"
      ]
     },
     "execution_count": 110,
     "metadata": {},
     "output_type": "execute_result"
    }
   ],
   "source": [
    "len(singleton)"
   ]
  },
  {
   "cell_type": "code",
   "execution_count": 111,
   "metadata": {},
   "outputs": [
    {
     "data": {
      "text/plain": [
       "('hello',)"
      ]
     },
     "execution_count": 111,
     "metadata": {},
     "output_type": "execute_result"
    }
   ],
   "source": [
    "singleton"
   ]
  },
  {
   "cell_type": "markdown",
   "metadata": {},
   "source": [
    "La declaración *t = 12345, 54321, 'hello!'* es un ejemplo de empaquetamiento de tuplas: los valores *12345*, *54321* y *'hello!'* están embalados juntos en una tupla. La operación inversa también es posible:"
   ]
  },
  {
   "cell_type": "code",
   "execution_count": 112,
   "metadata": {},
   "outputs": [],
   "source": [
    "x, y, z = t"
   ]
  },
  {
   "cell_type": "markdown",
   "metadata": {},
   "source": [
    "Esto se llama, adecuadamente, desempaquetado de secuencia y funciona para cualquier secuencia en el lado derecho. El desempaquetado de secuencia requiere que haya tantas variables en el lado izquierdo del signo igual como elementos en la secuencia. Tenga en cuenta que la asignación múltiple es realmente solo una combinación de empaque de tuplas y desempaque de secuencia.\n",
    "\n",
    "### 5.4. Conjuntos\n",
    "\n",
    "Python también incluye un tipo de datos para conjuntos. Un conjunto es una colección desordenada sin elementos duplicados. Los usos básicos incluyen pruebas de membresía y eliminación de entradas duplicadas. Los objetos de conjunto también admiten operaciones matemáticas como unión, intersección, diferencia y diferencia simétrica.\n",
    "\n",
    "Las llaves o la función set() se pueden usar para crear conjuntos. Nota: para crear un conjunto vacío, debe usar set(), no {}; este último crea un diccionario vacío, una estructura de datos que discutiremos en la siguiente sección.\n",
    "\n",
    "Aquí hay una breve demostración:"
   ]
  },
  {
   "cell_type": "code",
   "execution_count": 113,
   "metadata": {},
   "outputs": [],
   "source": [
    "basket = {'apple', 'orange', 'apple', 'pear', 'orange', 'banana'}"
   ]
  },
  {
   "cell_type": "code",
   "execution_count": 115,
   "metadata": {},
   "outputs": [
    {
     "name": "stdout",
     "output_type": "stream",
     "text": [
      "{'banana', 'apple', 'orange', 'pear'}\n"
     ]
    }
   ],
   "source": [
    "print(basket)                      # show that duplicates have been removed"
   ]
  },
  {
   "cell_type": "code",
   "execution_count": 116,
   "metadata": {},
   "outputs": [
    {
     "data": {
      "text/plain": [
       "True"
      ]
     },
     "execution_count": 116,
     "metadata": {},
     "output_type": "execute_result"
    }
   ],
   "source": [
    "'orange' in basket                 # fast membership testing"
   ]
  },
  {
   "cell_type": "code",
   "execution_count": 117,
   "metadata": {},
   "outputs": [
    {
     "data": {
      "text/plain": [
       "False"
      ]
     },
     "execution_count": 117,
     "metadata": {},
     "output_type": "execute_result"
    }
   ],
   "source": [
    "'crabgrass' in basket"
   ]
  },
  {
   "cell_type": "code",
   "execution_count": 118,
   "metadata": {},
   "outputs": [],
   "source": [
    "# Demonstrate set operations on unique letters from two words\n",
    "a = set('abracadabra')"
   ]
  },
  {
   "cell_type": "code",
   "execution_count": 119,
   "metadata": {},
   "outputs": [],
   "source": [
    "b = set('alacazam')"
   ]
  },
  {
   "cell_type": "code",
   "execution_count": 120,
   "metadata": {},
   "outputs": [
    {
     "data": {
      "text/plain": [
       "{'a', 'b', 'c', 'd', 'r'}"
      ]
     },
     "execution_count": 120,
     "metadata": {},
     "output_type": "execute_result"
    }
   ],
   "source": [
    "a                                  # unique letters in a"
   ]
  },
  {
   "cell_type": "code",
   "execution_count": 121,
   "metadata": {},
   "outputs": [
    {
     "data": {
      "text/plain": [
       "{'b', 'd', 'r'}"
      ]
     },
     "execution_count": 121,
     "metadata": {},
     "output_type": "execute_result"
    }
   ],
   "source": [
    "a - b                              # letters in a but not in b"
   ]
  },
  {
   "cell_type": "code",
   "execution_count": 122,
   "metadata": {},
   "outputs": [
    {
     "data": {
      "text/plain": [
       "{'a', 'b', 'c', 'd', 'l', 'm', 'r', 'z'}"
      ]
     },
     "execution_count": 122,
     "metadata": {},
     "output_type": "execute_result"
    }
   ],
   "source": [
    "a | b                              # letters in a or b or both"
   ]
  },
  {
   "cell_type": "code",
   "execution_count": 123,
   "metadata": {},
   "outputs": [
    {
     "data": {
      "text/plain": [
       "{'a', 'c'}"
      ]
     },
     "execution_count": 123,
     "metadata": {},
     "output_type": "execute_result"
    }
   ],
   "source": [
    "a & b                              # letters in both a and b"
   ]
  },
  {
   "cell_type": "code",
   "execution_count": 124,
   "metadata": {},
   "outputs": [
    {
     "data": {
      "text/plain": [
       "{'b', 'd', 'l', 'm', 'r', 'z'}"
      ]
     },
     "execution_count": 124,
     "metadata": {},
     "output_type": "execute_result"
    }
   ],
   "source": [
    "a ^ b                              # letters in a or b but not both"
   ]
  },
  {
   "cell_type": "markdown",
   "metadata": {},
   "source": [
    "De manera similar a la lista de comprensiones, las comprensiones establecidas también son compatibles:"
   ]
  },
  {
   "cell_type": "code",
   "execution_count": 125,
   "metadata": {},
   "outputs": [],
   "source": [
    "a = {x for x in 'abracadabra' if x not in 'abc'}"
   ]
  },
  {
   "cell_type": "code",
   "execution_count": 126,
   "metadata": {},
   "outputs": [
    {
     "data": {
      "text/plain": [
       "{'d', 'r'}"
      ]
     },
     "execution_count": 126,
     "metadata": {},
     "output_type": "execute_result"
    }
   ],
   "source": [
    "a"
   ]
  },
  {
   "cell_type": "markdown",
   "metadata": {},
   "source": [
    "### 5.5. Diccionarios\n",
    "\n",
    "Otro tipo de datos útil integrado en Python es el diccionario (ver Tipos de mapeo - dict: https://docs.python.org/3/library/stdtypes.html#typesmapping). Los diccionarios a veces se encuentran en otros idiomas como \"memorias asociativas\" o \"matrices asociativas\". A diferencia de las secuencias, que están indexadas por un rango de números, los diccionarios están indexados por claves, que pueden ser de cualquier tipo inmutable; Las cadenas y los números siempre pueden ser claves. Las tuplas se pueden usar como claves si contienen solo cadenas, números o tuplas; Si una tupla contiene algún objeto mutable, ya sea directa o indirectamente, no se puede usar como clave. No puede usar listas como claves, ya que las listas se pueden modificar en su lugar mediante asignaciones de índice, asignaciones de sectores o métodos como append() y extend().\n",
    "\n",
    "Es mejor pensar en un diccionario como un conjunto de claves: pares de valores, con el requisito de que las claves sean únicas (dentro de un diccionario). Un par de llaves crea un diccionario vacío: {}. Al colocar una lista separada por comas de pares clave: valor dentro de las llaves se agrega clave inicial: pares de valores al diccionario; esta es también la forma en que los diccionarios se escriben en la salida.\n",
    "\n",
    "Las operaciones principales en un diccionario son almacenar un valor con alguna clave y extraer el valor dado la clave. También es posible eliminar una clave: par de valores con *del*. Si almacena utilizando una clave que ya está en uso, se olvida el valor anterior asociado con esa clave. Es un error extraer un valor usando una clave inexistente.\n",
    "\n",
    "La ejecución de la list(d) en un diccionario devuelve una lista de todas las teclas utilizadas en el diccionario, en orden de inserción (si desea ordenarlas, simplemente use sorted(d) en su lugar). Para verificar si hay una sola clave en el diccionario, use la palabra clave *in*.\n",
    "\n",
    "Aquí hay un pequeño ejemplo usando un diccionario:"
   ]
  },
  {
   "cell_type": "code",
   "execution_count": 127,
   "metadata": {},
   "outputs": [],
   "source": [
    "tel = {'jack': 4098, 'sape': 4139}"
   ]
  },
  {
   "cell_type": "code",
   "execution_count": 128,
   "metadata": {},
   "outputs": [],
   "source": [
    "tel['guido'] = 4127"
   ]
  },
  {
   "cell_type": "code",
   "execution_count": 129,
   "metadata": {},
   "outputs": [
    {
     "data": {
      "text/plain": [
       "{'jack': 4098, 'sape': 4139, 'guido': 4127}"
      ]
     },
     "execution_count": 129,
     "metadata": {},
     "output_type": "execute_result"
    }
   ],
   "source": [
    "tel"
   ]
  },
  {
   "cell_type": "code",
   "execution_count": 130,
   "metadata": {},
   "outputs": [
    {
     "data": {
      "text/plain": [
       "4098"
      ]
     },
     "execution_count": 130,
     "metadata": {},
     "output_type": "execute_result"
    }
   ],
   "source": [
    "tel['jack']"
   ]
  },
  {
   "cell_type": "code",
   "execution_count": 131,
   "metadata": {},
   "outputs": [],
   "source": [
    "del tel['sape']"
   ]
  },
  {
   "cell_type": "code",
   "execution_count": 132,
   "metadata": {},
   "outputs": [],
   "source": [
    "tel['irv'] = 4127"
   ]
  },
  {
   "cell_type": "code",
   "execution_count": 133,
   "metadata": {},
   "outputs": [
    {
     "data": {
      "text/plain": [
       "{'jack': 4098, 'guido': 4127, 'irv': 4127}"
      ]
     },
     "execution_count": 133,
     "metadata": {},
     "output_type": "execute_result"
    }
   ],
   "source": [
    "tel"
   ]
  },
  {
   "cell_type": "code",
   "execution_count": 134,
   "metadata": {},
   "outputs": [
    {
     "data": {
      "text/plain": [
       "['jack', 'guido', 'irv']"
      ]
     },
     "execution_count": 134,
     "metadata": {},
     "output_type": "execute_result"
    }
   ],
   "source": [
    "list(tel)"
   ]
  },
  {
   "cell_type": "code",
   "execution_count": 135,
   "metadata": {},
   "outputs": [
    {
     "data": {
      "text/plain": [
       "['guido', 'irv', 'jack']"
      ]
     },
     "execution_count": 135,
     "metadata": {},
     "output_type": "execute_result"
    }
   ],
   "source": [
    "sorted(tel)"
   ]
  },
  {
   "cell_type": "code",
   "execution_count": 136,
   "metadata": {},
   "outputs": [
    {
     "data": {
      "text/plain": [
       "True"
      ]
     },
     "execution_count": 136,
     "metadata": {},
     "output_type": "execute_result"
    }
   ],
   "source": [
    "'guido' in tel"
   ]
  },
  {
   "cell_type": "code",
   "execution_count": 137,
   "metadata": {},
   "outputs": [
    {
     "data": {
      "text/plain": [
       "False"
      ]
     },
     "execution_count": 137,
     "metadata": {},
     "output_type": "execute_result"
    }
   ],
   "source": [
    "'jack' not in tel"
   ]
  },
  {
   "cell_type": "markdown",
   "metadata": {},
   "source": [
    "El constructor dict() construye diccionarios directamente a partir de secuencias de pares clave-valor:"
   ]
  },
  {
   "cell_type": "code",
   "execution_count": 138,
   "metadata": {},
   "outputs": [
    {
     "data": {
      "text/plain": [
       "{'sape': 4139, 'guido': 4127, 'jack': 4098}"
      ]
     },
     "execution_count": 138,
     "metadata": {},
     "output_type": "execute_result"
    }
   ],
   "source": [
    "dict([('sape', 4139), ('guido', 4127), ('jack', 4098)])"
   ]
  },
  {
   "cell_type": "markdown",
   "metadata": {},
   "source": [
    "Además, las comprensiones dict se pueden utilizar para crear diccionarios a partir de expresiones de valores y claves arbitrarias:"
   ]
  },
  {
   "cell_type": "code",
   "execution_count": 139,
   "metadata": {},
   "outputs": [
    {
     "data": {
      "text/plain": [
       "{2: 4, 4: 16, 6: 36}"
      ]
     },
     "execution_count": 139,
     "metadata": {},
     "output_type": "execute_result"
    }
   ],
   "source": [
    "{x: x**2 for x in (2, 4, 6)}"
   ]
  },
  {
   "cell_type": "markdown",
   "metadata": {},
   "source": [
    "Cuando las claves son cadenas simples, a veces es más fácil especificar pares usando argumentos de palabras clave:"
   ]
  },
  {
   "cell_type": "code",
   "execution_count": 140,
   "metadata": {},
   "outputs": [
    {
     "data": {
      "text/plain": [
       "{'sape': 4139, 'guido': 4127, 'jack': 4098}"
      ]
     },
     "execution_count": 140,
     "metadata": {},
     "output_type": "execute_result"
    }
   ],
   "source": [
    "dict(sape=4139, guido=4127, jack=4098)"
   ]
  },
  {
   "cell_type": "markdown",
   "metadata": {},
   "source": [
    "### 5.6. Técnicas de Bucles\n",
    "\n",
    "Al recorrer los diccionarios, la clave y el valor correspondiente se pueden recuperar al mismo tiempo utilizando el método items()."
   ]
  },
  {
   "cell_type": "code",
   "execution_count": 141,
   "metadata": {},
   "outputs": [],
   "source": [
    "knights = {'gallahad': 'the pure', 'robin': 'the brave'}"
   ]
  },
  {
   "cell_type": "code",
   "execution_count": 142,
   "metadata": {},
   "outputs": [
    {
     "name": "stdout",
     "output_type": "stream",
     "text": [
      "gallahad the pure\n",
      "robin the brave\n"
     ]
    }
   ],
   "source": [
    "for k, v in knights.items():\n",
    "    print(k, v)"
   ]
  },
  {
   "cell_type": "markdown",
   "metadata": {},
   "source": [
    "Al recorrer una secuencia, el índice de posición y el valor correspondiente se pueden recuperar al mismo tiempo utilizando la función enumerate()."
   ]
  },
  {
   "cell_type": "code",
   "execution_count": 143,
   "metadata": {},
   "outputs": [
    {
     "name": "stdout",
     "output_type": "stream",
     "text": [
      "0 tic\n",
      "1 tac\n",
      "2 toe\n"
     ]
    }
   ],
   "source": [
    "for i, v in enumerate(['tic', 'tac', 'toe']):\n",
    "    print(i, v)"
   ]
  },
  {
   "cell_type": "markdown",
   "metadata": {},
   "source": [
    "Para recorrer dos o más secuencias al mismo tiempo, las entradas se pueden emparejar con la función zip()."
   ]
  },
  {
   "cell_type": "code",
   "execution_count": 144,
   "metadata": {},
   "outputs": [],
   "source": [
    "questions = ['name', 'quest', 'favorite color']"
   ]
  },
  {
   "cell_type": "code",
   "execution_count": 145,
   "metadata": {},
   "outputs": [],
   "source": [
    "answers = ['lancelot', 'the holy grail', 'blue']"
   ]
  },
  {
   "cell_type": "code",
   "execution_count": 147,
   "metadata": {},
   "outputs": [
    {
     "name": "stdout",
     "output_type": "stream",
     "text": [
      "What is your name?  It is lancelot.\n",
      "What is your quest?  It is the holy grail.\n",
      "What is your favorite color?  It is blue.\n"
     ]
    }
   ],
   "source": [
    "for q, a in zip(questions, answers):\n",
    "    print('What is your {0}?  It is {1}.'.format(q, a))"
   ]
  },
  {
   "cell_type": "markdown",
   "metadata": {},
   "source": [
    "Para recorrer una secuencia en reversa, primero especifique la secuencia en dirección hacia adelante y luego llame a la función reversed()."
   ]
  },
  {
   "cell_type": "code",
   "execution_count": 148,
   "metadata": {},
   "outputs": [
    {
     "name": "stdout",
     "output_type": "stream",
     "text": [
      "9\n",
      "7\n",
      "5\n",
      "3\n",
      "1\n"
     ]
    }
   ],
   "source": [
    "for i in reversed(range(1, 10, 2)):\n",
    "    print(i)"
   ]
  },
  {
   "cell_type": "markdown",
   "metadata": {},
   "source": [
    "Para recorrer una secuencia en orden ordenado, use la función sorted() que devuelve una nueva lista ordenada mientras deja la fuente sin alterar."
   ]
  },
  {
   "cell_type": "code",
   "execution_count": 149,
   "metadata": {},
   "outputs": [],
   "source": [
    "basket = ['apple', 'orange', 'apple', 'pear', 'orange', 'banana']"
   ]
  },
  {
   "cell_type": "code",
   "execution_count": 150,
   "metadata": {},
   "outputs": [
    {
     "name": "stdout",
     "output_type": "stream",
     "text": [
      "apple\n",
      "banana\n",
      "orange\n",
      "pear\n"
     ]
    }
   ],
   "source": [
    "for f in sorted(set(basket)):\n",
    "    print(f)"
   ]
  },
  {
   "cell_type": "markdown",
   "metadata": {},
   "source": [
    "A veces es tentador cambiar una lista mientras la recorres; sin embargo, a menudo es más simple y seguro crear una nueva lista."
   ]
  },
  {
   "cell_type": "code",
   "execution_count": 151,
   "metadata": {},
   "outputs": [],
   "source": [
    "import math"
   ]
  },
  {
   "cell_type": "code",
   "execution_count": 152,
   "metadata": {},
   "outputs": [],
   "source": [
    "raw_data = [56.2, float('NaN'), 51.7, 55.3, 52.5, float('NaN'), 47.8]"
   ]
  },
  {
   "cell_type": "code",
   "execution_count": 153,
   "metadata": {},
   "outputs": [],
   "source": [
    "filtered_data = []"
   ]
  },
  {
   "cell_type": "code",
   "execution_count": 154,
   "metadata": {},
   "outputs": [],
   "source": [
    "for value in raw_data:\n",
    "    if not math.isnan(value):\n",
    "        filtered_data.append(value)"
   ]
  },
  {
   "cell_type": "code",
   "execution_count": 155,
   "metadata": {},
   "outputs": [
    {
     "data": {
      "text/plain": [
       "[56.2, 51.7, 55.3, 52.5, 47.8]"
      ]
     },
     "execution_count": 155,
     "metadata": {},
     "output_type": "execute_result"
    }
   ],
   "source": [
    "filtered_data"
   ]
  },
  {
   "cell_type": "markdown",
   "metadata": {},
   "source": [
    "### 5.7. Mas sobre las Condiciones\n",
    "\n",
    "Las condiciones utilizadas en las declaraciones *while* y *if* pueden contener cualquier operador, no solo comparaciones.\n",
    "\n",
    "Los operadores de comparación *in* y *not in* chequean si un valor ocurre (no ocurre) en una secuencia. Los operadores *is* y *is not* comparan si dos objetos son realmente el mismo objeto; esto solo importa para objetos mutables como listas. Todos los operadores de comparación tienen la misma prioridad, que es inferior a la de todos los operadores numéricos.\n",
    "\n",
    "Las comparaciones se pueden encadenar. Por ejemplo, *a < b == c* prueba si a es menor que b y además *b* es igual a *c*.\n",
    "\n",
    "Las comparaciones pueden combinarse utilizando los operadores booleanos y y o, y el resultado de una comparación (o de cualquier otra expresión booleana) puede negarse con not. Estos tienen prioridades más bajas que los operadores de comparación; entre ellos, no tiene la prioridad más alta y / o la más baja, de modo que *A and not B or C* es equivalente a *(A and (not B)) or C*. Como siempre, se pueden usar paréntesis para expresar la composición deseada.\n",
    "\n",
    "Los operadores booleanos *and* y *or* son los llamados operadores de cortocircuito: sus argumentos se evalúan de izquierda a derecha, y la evaluación se detiene tan pronto como se determina el resultado. Por ejemplo, si *A* y *C* son verdaderas pero *B* es falso, *A y B y C* no evalúan la expresión C. Cuando se usa como un valor general y no como un booleano, el valor de retorno de un operador de cortocircuito es el último argumento evaluado\n",
    "\n",
    "Es posible asignar el resultado de una comparación u otra expresión booleana a una variable. Por ejemplo,"
   ]
  },
  {
   "cell_type": "code",
   "execution_count": 156,
   "metadata": {},
   "outputs": [],
   "source": [
    "string1, string2, string3 = '', 'Trondheim', 'Hammer Dance'"
   ]
  },
  {
   "cell_type": "code",
   "execution_count": 157,
   "metadata": {},
   "outputs": [],
   "source": [
    "non_null = string1 or string2 or string3"
   ]
  },
  {
   "cell_type": "code",
   "execution_count": 158,
   "metadata": {},
   "outputs": [
    {
     "data": {
      "text/plain": [
       "'Trondheim'"
      ]
     },
     "execution_count": 158,
     "metadata": {},
     "output_type": "execute_result"
    }
   ],
   "source": [
    "non_null"
   ]
  },
  {
   "cell_type": "markdown",
   "metadata": {},
   "source": [
    "Tenga en cuenta que en Python, a diferencia de C, la asignación dentro de las expresiones debe hacerse explícitamente con el operador de walrus *:=* (https://docs.python.org/3/faq/design.html#why-can-t-i-use-an-assignment-in-an-expression). Esto evita una clase común de problemas encontrados en los programas en C: escribir *=* en una expresión cuando *==* estaba destinado.\n",
    "\n",
    "### 5.8 Comparación de secuencias y otros tipos\n",
    "\n",
    "Los objetos de secuencia generalmente se pueden comparar con otros objetos con el mismo tipo de secuencia. La comparación utiliza el orden *lexicographical*: primero se comparan los dos primeros elementos, y si difieren, esto determina el resultado de la comparación; si son iguales, se comparan los siguientes dos elementos, y así sucesivamente, hasta que se agote cualquiera de las secuencias. Si dos elementos a comparar son secuencias del mismo tipo, la comparación lexicográfica se realiza de forma recursiva. Si todos los elementos de dos secuencias se comparan igual, las secuencias se consideran iguales. Si una secuencia es una subsecuencia inicial de la otra, la secuencia más corta es la más pequeña (menor). El ordenamiento lexicográfico de cadenas utiliza el número de punto de código Unicode para ordenar caracteres individuales. Algunos ejemplos de comparaciones entre secuencias del mismo tipo:"
   ]
  },
  {
   "cell_type": "markdown",
   "metadata": {},
   "source": [
    "    (1, 2, 3)              < (1, 2, 4)\n",
    "    [1, 2, 3]              < [1, 2, 4]\n",
    "    'ABC' < 'C' < 'Pascal' < 'Python'\n",
    "    (1, 2, 3, 4)           < (1, 2, 4)\n",
    "    (1, 2)                 < (1, 2, -1)\n",
    "    (1, 2, 3)             == (1.0, 2.0, 3.0)\n",
    "    (1, 2, ('aa', 'ab'))   < (1, 2, ('abc', 'a'), 4)"
   ]
  },
  {
   "cell_type": "markdown",
   "metadata": {},
   "source": [
    "Tenga en cuenta que comparar objetos de diferentes tipos con *<* o *>* es legal siempre que los objetos tengan métodos de comparación apropiados. Por ejemplo, los tipos numéricos mixtos se comparan de acuerdo con su valor numérico, por lo que 0 es igual a 0.0, etc. De lo contrario, en lugar de proporcionar un orden arbitrario, el intérprete generará una excepción *TypeError*."
   ]
  }
 ],
 "metadata": {
  "kernelspec": {
   "display_name": "Python 3",
   "language": "python",
   "name": "python3"
  },
  "language_info": {
   "codemirror_mode": {
    "name": "ipython",
    "version": 3
   },
   "file_extension": ".py",
   "mimetype": "text/x-python",
   "name": "python",
   "nbconvert_exporter": "python",
   "pygments_lexer": "ipython3",
   "version": "3.7.4"
  }
 },
 "nbformat": 4,
 "nbformat_minor": 2
}
